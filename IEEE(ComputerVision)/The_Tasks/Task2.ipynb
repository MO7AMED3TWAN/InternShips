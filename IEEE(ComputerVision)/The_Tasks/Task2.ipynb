{
 "cells": [
  {
   "cell_type": "markdown",
   "id": "e83b9c28-a8f8-4a23-917d-af0f620c8f6a",
   "metadata": {},
   "source": [
    "# Packages\n"
   ]
  },
  {
   "cell_type": "code",
   "execution_count": 1,
   "id": "884a9faa-f72d-4244-8450-c87b266307f0",
   "metadata": {},
   "outputs": [],
   "source": [
    "import cv2\n",
    "import numpy as np \n",
    "import matplotlib.pyplot as plt"
   ]
  },
  {
   "cell_type": "markdown",
   "id": "3fa9cb40-66ba-4a9d-a76b-8e7c7052d827",
   "metadata": {},
   "source": [
    "# Dealing With Brightness"
   ]
  },
  {
   "cell_type": "code",
   "execution_count": 2,
   "id": "a4041b8e-7e15-4db3-b412-ac01eea15e12",
   "metadata": {},
   "outputs": [],
   "source": [
    "image = cv2.imread('./The_Data/Images/fly.jpg')\n",
    "\n",
    "image =cv2.resize(image, (240, 180))\n",
    "# Define a brightness factor (adjust this as needed)\n",
    "\n",
    "brightness_factor = 50"
   ]
  },
  {
   "cell_type": "markdown",
   "id": "683ca601-0722-4bb7-8e0e-60e494c218a9",
   "metadata": {},
   "source": [
    "## Increasing"
   ]
  },
  {
   "cell_type": "code",
   "execution_count": 3,
   "id": "150586ff-cbc5-47a2-92a2-b9ceec6213bd",
   "metadata": {},
   "outputs": [],
   "source": [
    "brightened_image = cv2.add(image, (brightness_factor, brightness_factor, brightness_factor, 0))"
   ]
  },
  {
   "cell_type": "markdown",
   "id": "7e1d148a-f80c-486c-ae98-fc93036ab9a5",
   "metadata": {},
   "source": [
    "## Decreasing"
   ]
  },
  {
   "cell_type": "code",
   "execution_count": 4,
   "id": "10687a91-70b5-4ba5-8e9c-04d49bf32634",
   "metadata": {},
   "outputs": [],
   "source": [
    "darkened_image = cv2.subtract(image, (brightness_factor, brightness_factor, brightness_factor, 0))"
   ]
  },
  {
   "cell_type": "markdown",
   "id": "c150906a-9b4b-479d-8a76-6334ee489518",
   "metadata": {},
   "source": [
    "## View Images"
   ]
  },
  {
   "cell_type": "code",
   "execution_count": 5,
   "id": "fc9a4331-f8c2-4460-b7e3-fde24465e098",
   "metadata": {},
   "outputs": [],
   "source": [
    "cv2.imshow('Original Image', image)\n",
    "cv2.imshow('Brightened Image', brightened_image)\n",
    "cv2.imshow('Darkened Image', darkened_image)\n",
    "\n",
    "if cv2.waitKey(0) == ord(\" \"):\n",
    "    cv2.destroyAllWindows()"
   ]
  },
  {
   "cell_type": "markdown",
   "id": "2808fc8b-87f8-4ec4-a66f-3a7d470a71d1",
   "metadata": {},
   "source": [
    "# Thanks"
   ]
  }
 ],
 "metadata": {
  "kernelspec": {
   "display_name": "Python 3 (ipykernel)",
   "language": "python",
   "name": "python3"
  },
  "language_info": {
   "codemirror_mode": {
    "name": "ipython",
    "version": 3
   },
   "file_extension": ".py",
   "mimetype": "text/x-python",
   "name": "python",
   "nbconvert_exporter": "python",
   "pygments_lexer": "ipython3",
   "version": "3.11.0"
  }
 },
 "nbformat": 4,
 "nbformat_minor": 5
}
