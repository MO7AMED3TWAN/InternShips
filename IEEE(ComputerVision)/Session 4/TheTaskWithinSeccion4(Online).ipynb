{
 "cells": [
  {
   "cell_type": "code",
   "execution_count": 1,
   "id": "1a92bffd-01b8-4e1e-9f73-7e98f49a3470",
   "metadata": {},
   "outputs": [],
   "source": [
    "import cv2\n",
    "import numpy as np \n",
    "import matplotlib.pyplot as plt"
   ]
  },
  {
   "cell_type": "code",
   "execution_count": 2,
   "id": "47b92e02-7cb7-485d-9b31-4b897ddbd6cb",
   "metadata": {},
   "outputs": [],
   "source": [
    "BImg1 = cv2.imread('./The_Data/Images/BW1.png')\n",
    "BImg2= cv2.imread('./The_Data/Images/BW2.png')"
   ]
  },
  {
   "cell_type": "code",
   "execution_count": 3,
   "id": "8511c4b3-9d4f-4dd7-89a4-17a5b75ce353",
   "metadata": {},
   "outputs": [],
   "source": [
    "AndImg = cv2.bitwise_and(BImg1, BImg2)\n",
    "OrImg  = cv2.bitwise_or (BImg1, BImg2)\n",
    "NotImg = cv2.bitwise_not(BImg2)\n",
    "\n",
    "AndImg2 = cv2.bitwise_and(NotImg, BImg1)"
   ]
  },
  {
   "cell_type": "code",
   "execution_count": 4,
   "id": "ba2bb4f9-af43-4a46-8278-65b7e25067b7",
   "metadata": {},
   "outputs": [],
   "source": [
    "cv2.imshow('1'   , BImg1) \n",
    "cv2.imshow('2'   , BImg2)\n",
    "cv2.imshow('And' , AndImg)\n",
    "cv2.imshow('Or'  , OrImg)\n",
    "cv2.imshow('N'  , NotImg) \n",
    "cv2.imshow('3'  , AndImg2) \n",
    "\n",
    "if cv2.waitKey(0) == ord(\" \"):\n",
    "    cv2.destroyAllWindows()"
   ]
  },
  {
   "cell_type": "code",
   "execution_count": 5,
   "id": "5b8d51e6-4ca7-44f1-bc0e-0ccb8099386c",
   "metadata": {},
   "outputs": [
    {
     "data": {
      "text/plain": [
       "True"
      ]
     },
     "execution_count": 5,
     "metadata": {},
     "output_type": "execute_result"
    }
   ],
   "source": [
    "cv2.imwrite('./The_Results/And.jpg', AndImg)"
   ]
  },
  {
   "cell_type": "code",
   "execution_count": 6,
   "id": "e3df4290-37f3-4f52-9d69-aeb83e23ba2b",
   "metadata": {},
   "outputs": [
    {
     "data": {
      "text/plain": [
       "True"
      ]
     },
     "execution_count": 6,
     "metadata": {},
     "output_type": "execute_result"
    }
   ],
   "source": [
    "cv2.imwrite('./The_Results/Or.jpg' , OrImg)"
   ]
  },
  {
   "cell_type": "code",
   "execution_count": 7,
   "id": "2a9c0d59-b217-4a6a-9cc7-3ced8c51f9b1",
   "metadata": {},
   "outputs": [
    {
     "data": {
      "text/plain": [
       "True"
      ]
     },
     "execution_count": 7,
     "metadata": {},
     "output_type": "execute_result"
    }
   ],
   "source": [
    "cv2.imwrite('./The_Results/Not.jpg', AndImg2)"
   ]
  }
 ],
 "metadata": {
  "kernelspec": {
   "display_name": "Python 3 (ipykernel)",
   "language": "python",
   "name": "python3"
  },
  "language_info": {
   "codemirror_mode": {
    "name": "ipython",
    "version": 3
   },
   "file_extension": ".py",
   "mimetype": "text/x-python",
   "name": "python",
   "nbconvert_exporter": "python",
   "pygments_lexer": "ipython3",
   "version": "3.11.0"
  }
 },
 "nbformat": 4,
 "nbformat_minor": 5
}
