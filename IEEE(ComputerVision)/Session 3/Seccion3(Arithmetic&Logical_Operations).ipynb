{
 "cells": [
  {
   "cell_type": "markdown",
   "id": "2a8c36e8-fead-4658-b953-565853288e57",
   "metadata": {},
   "source": [
    "# Packages"
   ]
  },
  {
   "cell_type": "code",
   "execution_count": 1,
   "id": "385649f7-ff9a-44a1-8045-cdacfc136bd0",
   "metadata": {},
   "outputs": [],
   "source": [
    "import cv2 \n",
    "import numpy as np"
   ]
  },
  {
   "cell_type": "markdown",
   "id": "b2207778-8cb0-4c28-b45f-a6fbeff0f189",
   "metadata": {},
   "source": [
    "# Gettibg Images"
   ]
  },
  {
   "cell_type": "code",
   "execution_count": 2,
   "id": "1497cd04-a16b-4e09-bbd3-f8458af021fa",
   "metadata": {},
   "outputs": [],
   "source": [
    "Img1  = cv2.imread('./The_Data/Images/fly.jpg')\n",
    "Img2  = cv2.imread('./The_Data/Images/Wifi.jpg')\n",
    "\n",
    "BImg1 = cv2.imread('./The_Data/Images/BW1.png')\n",
    "BImg2 = cv2.imread('./The_Data/Images/BW2.png')"
   ]
  },
  {
   "cell_type": "markdown",
   "id": "b6e593a8-944b-4e0e-ab19-174de16bd5c6",
   "metadata": {},
   "source": [
    "# Arithmetic Operation On Images <br> <br>  <b>( + | - | * | / )</b>  "
   ]
  },
  {
   "cell_type": "code",
   "execution_count": 3,
   "id": "0565c538-02c7-4f5d-a673-605a4de84d35",
   "metadata": {},
   "outputs": [],
   "source": [
    "RImg1 = cv2.resize(Img1, (280, 160))\n",
    "RImg2 = cv2.resize(Img2, (280, 160))"
   ]
  },
  {
   "cell_type": "code",
   "execution_count": null,
   "id": "fd793e7e-460d-4be9-8896-49d5b33019ae",
   "metadata": {},
   "outputs": [],
   "source": []
  },
  {
   "cell_type": "code",
   "execution_count": 4,
   "id": "8afb2987-055f-490f-bc15-7788baea0912",
   "metadata": {},
   "outputs": [],
   "source": [
    "Add = cv2.add(RImg1, RImg2)\n",
    "Sub = cv2.subtract(RImg1, RImg2)\n",
    "Mul = cv2.multiply(RImg1, RImg2)\n",
    "Div = cv2.divide(RImg1, RImg2)\n",
    "\n",
    "\n",
    "cv2.imshow('1'  , RImg1) \n",
    "cv2.imshow('2'  , RImg2)\n",
    "cv2.imshow('Add', Add)\n",
    "cv2.imshow('Sub', Sub)\n",
    "cv2.imshow('Mul', Mul)\n",
    "cv2.imshow('Div', Div)\n",
    "\n",
    "if cv2.waitKey(0) == ord(\" \"):\n",
    "    cv2.destroyAllWindows()"
   ]
  },
  {
   "cell_type": "markdown",
   "id": "a7e9867d-8a96-47a0-afe0-12adfd15a41f",
   "metadata": {},
   "source": [
    "# Bitwise Operation On Images <br><br> <b>( AND | OR | NOT )<b>"
   ]
  },
  {
   "cell_type": "code",
   "execution_count": 15,
   "id": "ed10449a-22e3-4e9f-b6fc-d4c56f0c766f",
   "metadata": {},
   "outputs": [],
   "source": [
    "AndImg = cv2.bitwise_and(BImg1, BImg2)\n",
    "OrImg  = cv2.bitwise_or (BImg1, BImg2)\n",
    "NotImg = cv2.bitwise_not(BImg1, BImg2)\n",
    "XorImg = cv2.bitwise_xor(BImg1, BImg2)\n",
    "\n",
    "\n",
    "cv2.imshow('1'   , BImg1) \n",
    "cv2.imshow('2'   , BImg1)\n",
    "cv2.imshow('And' , AndImg)\n",
    "cv2.imshow('Or'  , OrImg) \n",
    "cv2.imshow('Not' , NotImg)\n",
    "cv2.imshow('Xor' , XorImg)\n",
    "\n",
    "if cv2.waitKey(0) == ord(\" \"):\n",
    "    cv2.destroyAllWindows()\n",
    "\n"
   ]
  },
  {
   "cell_type": "markdown",
   "id": "8dd3697f-b6c5-4a62-b80f-1f3af8745b39",
   "metadata": {},
   "source": [
    "# Thanks"
   ]
  }
 ],
 "metadata": {
  "kernelspec": {
   "display_name": "Python 3 (ipykernel)",
   "language": "python",
   "name": "python3"
  },
  "language_info": {
   "codemirror_mode": {
    "name": "ipython",
    "version": 3
   },
   "file_extension": ".py",
   "mimetype": "text/x-python",
   "name": "python",
   "nbconvert_exporter": "python",
   "pygments_lexer": "ipython3",
   "version": "3.11.0"
  }
 },
 "nbformat": 4,
 "nbformat_minor": 5
}
