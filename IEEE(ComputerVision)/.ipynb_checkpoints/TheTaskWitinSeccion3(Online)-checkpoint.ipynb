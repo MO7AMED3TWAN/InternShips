{
 "cells": [
  {
   "cell_type": "code",
   "execution_count": 1,
   "id": "1a92bffd-01b8-4e1e-9f73-7e98f49a3470",
   "metadata": {},
   "outputs": [],
   "source": [
    "import cv2\n",
    "import numpy as np \n",
    "import matplotlib.pyplot as plt"
   ]
  },
  {
   "cell_type": "code",
   "execution_count": 2,
   "id": "47b92e02-7cb7-485d-9b31-4b897ddbd6cb",
   "metadata": {},
   "outputs": [],
   "source": [
    "BImg1 = cv2.imread('./The_Data/Images/BW1.png')\n",
    "BImg2 = cv2.imread('./The_Data/Images/BW2.png')"
   ]
  },
  {
   "cell_type": "code",
   "execution_count": 3,
   "id": "8511c4b3-9d4f-4dd7-89a4-17a5b75ce353",
   "metadata": {},
   "outputs": [],
   "source": [
    "AndImg = cv2.bitwise_and(BImg1, BImg2)\n",
    "OrImg  = cv2.bitwise_or (BImg1, BImg2)\n",
    "NotImg = cv2.bitwise_not(BImg1, BImg2)\n",
    "XorImg = cv2.bitwise_xor(BImg1, BImg2)"
   ]
  },
  {
   "cell_type": "code",
   "execution_count": 5,
   "id": "ba2bb4f9-af43-4a46-8278-65b7e25067b7",
   "metadata": {},
   "outputs": [
    {
     "ename": "error",
     "evalue": "OpenCV(4.7.0) D:\\a\\opencv-python\\opencv-python\\opencv\\modules\\highgui\\src\\window.cpp:971: error: (-215:Assertion failed) size.width>0 && size.height>0 in function 'cv::imshow'\n",
     "output_type": "error",
     "traceback": [
      "\u001b[1;31m---------------------------------------------------------------------------\u001b[0m",
      "\u001b[1;31merror\u001b[0m                                     Traceback (most recent call last)",
      "Cell \u001b[1;32mIn[5], line 1\u001b[0m\n\u001b[1;32m----> 1\u001b[0m \u001b[43mcv2\u001b[49m\u001b[38;5;241;43m.\u001b[39;49m\u001b[43mimshow\u001b[49m\u001b[43m(\u001b[49m\u001b[38;5;124;43m'\u001b[39;49m\u001b[38;5;124;43m1\u001b[39;49m\u001b[38;5;124;43m'\u001b[39;49m\u001b[43m   \u001b[49m\u001b[43m,\u001b[49m\u001b[43m \u001b[49m\u001b[43mBImg1\u001b[49m\u001b[43m)\u001b[49m \n\u001b[0;32m      2\u001b[0m cv2\u001b[38;5;241m.\u001b[39mimshow(\u001b[38;5;124m'\u001b[39m\u001b[38;5;124m2\u001b[39m\u001b[38;5;124m'\u001b[39m   , BImg1)\n\u001b[0;32m      3\u001b[0m cv2\u001b[38;5;241m.\u001b[39mimshow(\u001b[38;5;124m'\u001b[39m\u001b[38;5;124mAnd\u001b[39m\u001b[38;5;124m'\u001b[39m , AndImg)\n",
      "\u001b[1;31merror\u001b[0m: OpenCV(4.7.0) D:\\a\\opencv-python\\opencv-python\\opencv\\modules\\highgui\\src\\window.cpp:971: error: (-215:Assertion failed) size.width>0 && size.height>0 in function 'cv::imshow'\n"
     ]
    }
   ],
   "source": [
    "cv2.imshow('1'   , BImg1) \n",
    "cv2.imshow('2'   , BImg1)\n",
    "cv2.imshow('And' , AndImg)\n",
    "cv2.imshow('Or'  , OrImg) \n",
    "cv2.imshow('Not' , NotImg)\n",
    "\n",
    "if cv2.waitKey(0) == ord(\" \"):\n",
    "    cv2.destroyAllWindows()"
   ]
  },
  {
   "cell_type": "code",
   "execution_count": null,
   "id": "5b8d51e6-4ca7-44f1-bc0e-0ccb8099386c",
   "metadata": {},
   "outputs": [],
   "source": [
    "cv2.imwrite('./The_Results/And.jpg', AndImg)\n",
    "cv2.imwrite('./The_Results/Or.jpg' , OrImg)\n",
    "cv2.imwrite('./The_Results/Not.jpg', NotImg)"
   ]
  }
 ],
 "metadata": {
  "kernelspec": {
   "display_name": "Python 3 (ipykernel)",
   "language": "python",
   "name": "python3"
  },
  "language_info": {
   "codemirror_mode": {
    "name": "ipython",
    "version": 3
   },
   "file_extension": ".py",
   "mimetype": "text/x-python",
   "name": "python",
   "nbconvert_exporter": "python",
   "pygments_lexer": "ipython3",
   "version": "3.11.0"
  }
 },
 "nbformat": 4,
 "nbformat_minor": 5
}
