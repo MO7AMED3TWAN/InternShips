{
 "cells": [
  {
   "cell_type": "markdown",
   "id": "9a4b5591-4147-426c-a75d-861735850afb",
   "metadata": {
    "jp-MarkdownHeadingCollapsed": true
   },
   "source": [
    "## Import Packages and Images "
   ]
  },
  {
   "cell_type": "code",
   "execution_count": 1,
   "id": "e559431b-1393-4eeb-9bb0-b58c7a2b266b",
   "metadata": {},
   "outputs": [],
   "source": [
    "import cv2\n",
    "import numpy as np\n",
    "\n",
    "\n",
    "image1 = cv2.imread(\"./The_Data/Images/bug_noisy.jpg\")\n",
    "image2 = cv2.imread(\"./The_Data/Images/balloons_noisy.png\")"
   ]
  },
  {
   "cell_type": "markdown",
   "id": "9eb7e5a9-c8b7-4bf2-9b2e-1d485bc7b207",
   "metadata": {
    "jp-MarkdownHeadingCollapsed": true
   },
   "source": [
    "## Average Blurring"
   ]
  },
  {
   "cell_type": "markdown",
   "id": "14248615-8a35-4de9-9482-c0be58822da3",
   "metadata": {},
   "source": [
    "### It is a simple and commonly used blurring technique, suitable for reducing noise and creating a smoothing effect."
   ]
  },
  {
   "cell_type": "code",
   "execution_count": 2,
   "id": "17386eab-52b5-49b9-ba40-1caad85b1921",
   "metadata": {
    "collapsed": true,
    "jupyter": {
     "outputs_hidden": true
    }
   },
   "outputs": [
    {
     "data": {
      "text/plain": [
       "\"\\n\\nThe function 'blur' Takes Two Parameters :\\n\\n- First One Is An Image \\n\\n- Second One Is THe Kernel Size Note That The Best Kernel \\n  Common choices are (3,3), (5,5), (7,7), etc.\\n\\n\""
      ]
     },
     "execution_count": 2,
     "metadata": {},
     "output_type": "execute_result"
    }
   ],
   "source": [
    "Kernel_Size = (3, 3) \n",
    "blurred_image1 = cv2.blur(image1, Kernel_Size)\n",
    "blurred_image2 = cv2.blur(image2, (5, 5))\n",
    "\n",
    "\"\"\"\n",
    "\n",
    "The function 'blur' Takes Two Parameters :\n",
    "\n",
    "- First One Is An Image \n",
    "\n",
    "- Second One Is THe Kernel Size Note That The Best Kernel \n",
    "  Common choices are (3,3), (5,5), (7,7), etc.\n",
    "\n",
    "\"\"\""
   ]
  },
  {
   "cell_type": "code",
   "execution_count": 3,
   "id": "eb19db3b-e694-415c-868f-10b8dda561f4",
   "metadata": {},
   "outputs": [],
   "source": [
    "cv2.imshow(\"Average Blur 1\", blurred_image1)\n",
    "cv2.imshow(\"Average Blur 2\", blurred_image2)\n",
    "\n",
    "if cv2.waitKey(0) == ord(' '):\n",
    "    cv2.destroyAllWindows()"
   ]
  },
  {
   "cell_type": "markdown",
   "id": "287b8b96-86a1-448d-97ee-ab30a9480494",
   "metadata": {
    "jp-MarkdownHeadingCollapsed": true
   },
   "source": [
    "## Gaussian Bluring"
   ]
  },
  {
   "cell_type": "markdown",
   "id": "6342d959-cf2f-4cbd-8cec-ca3cf9c34b57",
   "metadata": {},
   "source": [
    "### It is commonly used to reduce noise and smooth images."
   ]
  },
  {
   "cell_type": "code",
   "execution_count": 4,
   "id": "8d8b2caa-262b-416d-980d-27a4f7c6c034",
   "metadata": {
    "collapsed": true,
    "jupyter": {
     "outputs_hidden": true
    }
   },
   "outputs": [
    {
     "data": {
      "text/plain": [
       "\"\\n\\nThe function 'blur' Takes Two Parameters :\\n\\n- First One Is An Image \\n\\n- Second One Is THe Kernel Size Note That The Best Kernel \\n  Common choices are (3,3), (5,5), (7,7), etc.\\n\\n- Third One Is The standard deviation of the Gaussian kernel in the X direction. \\n  If set to 0, OpenCV will automatically calculate it based on the kernel size.\\n\\n\""
      ]
     },
     "execution_count": 4,
     "metadata": {},
     "output_type": "execute_result"
    }
   ],
   "source": [
    "Kernel_Size = (3, 3) \n",
    "\n",
    "blurred_image1 = cv2.GaussianBlur(image1, Kernel_Size, 0 )\n",
    "blurred_image2 = cv2.GaussianBlur(image2, (5, 5), 0)\n",
    "\n",
    "\"\"\"\n",
    "\n",
    "The function 'blur' Takes Two Parameters :\n",
    "\n",
    "- First One Is An Image \n",
    "\n",
    "- Second One Is THe Kernel Size Note That The Best Kernel \n",
    "  Common choices are (3,3), (5,5), (7,7), etc.\n",
    "\n",
    "- Third One Is The standard deviation of the Gaussian kernel in the X direction. \n",
    "  If set to 0, OpenCV will automatically calculate it based on the kernel size.\n",
    "\n",
    "\"\"\""
   ]
  },
  {
   "cell_type": "code",
   "execution_count": 5,
   "id": "ad8e3601-d9b6-486d-a102-724c431de17c",
   "metadata": {},
   "outputs": [],
   "source": [
    "cv2.imshow(\"Gaussian Blur 1\", blurred_image1)\n",
    "cv2.imshow(\"Gaussian Blur 2\", blurred_image2)\n",
    "\n",
    "if cv2.waitKey(0) == ord(' '):\n",
    "    cv2.destroyAllWindows()"
   ]
  },
  {
   "cell_type": "markdown",
   "id": "4c1c82d7-3e3f-423b-828f-145332e42105",
   "metadata": {
    "jp-MarkdownHeadingCollapsed": true
   },
   "source": [
    "## Median Bluring"
   ]
  },
  {
   "cell_type": "markdown",
   "id": "a68887b4-69e9-4b8e-a661-cffc3e7c2311",
   "metadata": {},
   "source": [
    "### It is particularly useful for removing salt-and-pepper noise in images."
   ]
  },
  {
   "cell_type": "code",
   "execution_count": 6,
   "id": "2eedb2f6-fdb7-4344-9183-e3ca633ed419",
   "metadata": {
    "collapsed": true,
    "jupyter": {
     "outputs_hidden": true
    }
   },
   "outputs": [
    {
     "data": {
      "text/plain": [
       "\"\\n\\nThe function 'blur' Takes Two Parameters :\\n\\n- First One Is An Image \\n\\n- Second One The size of the kernel. should be a positive odd integer.\\n  Common choices are 3, 5, 7, etc.\\n\\n\""
      ]
     },
     "execution_count": 6,
     "metadata": {},
     "output_type": "execute_result"
    }
   ],
   "source": [
    "Kernel_Size = (3) \n",
    "\n",
    "blurred_image1 = cv2.medianBlur(image1, Kernel_Size)\n",
    "blurred_image2 = cv2.medianBlur(image2, 5)\n",
    "\n",
    "\"\"\"\n",
    "\n",
    "The function 'blur' Takes Two Parameters :\n",
    "\n",
    "- First One Is An Image \n",
    "\n",
    "- Second One The size of the kernel. should be a positive odd integer.\n",
    "  Common choices are 3, 5, 7, etc.\n",
    "\n",
    "\"\"\""
   ]
  },
  {
   "cell_type": "code",
   "execution_count": 7,
   "id": "4fc562de-edee-4a2b-810e-e706ad3216f4",
   "metadata": {},
   "outputs": [],
   "source": [
    "cv2.imshow(\"Median Blur 1\", blurred_image1)\n",
    "cv2.imshow(\"Median Blur 2\", blurred_image2)\n",
    "\n",
    "if cv2.waitKey(0) == ord(' '):\n",
    "    cv2.destroyAllWindows()"
   ]
  },
  {
   "cell_type": "markdown",
   "id": "329008bd-f7fd-451f-94ea-11d917ed4166",
   "metadata": {
    "jp-MarkdownHeadingCollapsed": true
   },
   "source": [
    "## Bilatera Bluring"
   ]
  },
  {
   "cell_type": "markdown",
   "id": "8ad7bd8f-8aa7-4873-9b33-3fe708d68cf4",
   "metadata": {},
   "source": [
    "### It can be useful when you want to smooth an image but retain important details."
   ]
  },
  {
   "cell_type": "code",
   "execution_count": 8,
   "id": "e2566318-c5db-4b56-a376-0f5ff16319a3",
   "metadata": {
    "collapsed": true,
    "jupyter": {
     "outputs_hidden": true
    }
   },
   "outputs": [
    {
     "data": {
      "text/plain": [
       "\"\\n\\nThe function 'blur' Takes Two Parameters :\\n\\n- First One Is An Image \\n\\n- Second One is The size of the kernel. It should be a positive odd integer. \\n  Common choices are 3, 5, 7, etc.\\n\\n- Color Standard Deviation (sigmaColor): It controls how different colors are considered.      Higher values mean that a wider range of colors will be mixed together.\\n\\n- Space Standard Deviation (sigmaSpace): It controls how far pixels influence each other       based on spatial proximity. Higher values mean pixels farther away will have more            influence.\\n\\n\""
      ]
     },
     "execution_count": 8,
     "metadata": {},
     "output_type": "execute_result"
    }
   ],
   "source": [
    "Kernel_Size = (3) \n",
    "\n",
    "blurred_image1 = cv2.bilateralFilter(image1, Kernel_Size, 75, 75)\n",
    "blurred_image2 = cv2.bilateralFilter(image2, 5, 75, 75)\n",
    "\n",
    "\"\"\"\n",
    "\n",
    "The function 'blur' Takes Two Parameters :\n",
    "\n",
    "- First One Is An Image \n",
    "\n",
    "- Second One is The size of the kernel. It should be a positive odd integer. \n",
    "  Common choices are 3, 5, 7, etc.\n",
    "\n",
    "- Color Standard Deviation (sigmaColor): It controls how different colors are considered.      Higher values mean that a wider range of colors will be mixed together.\n",
    "\n",
    "- Space Standard Deviation (sigmaSpace): It controls how far pixels influence each other       based on spatial proximity. Higher values mean pixels farther away will have more            influence.\n",
    "\n",
    "\"\"\""
   ]
  },
  {
   "cell_type": "code",
   "execution_count": 9,
   "id": "fbd35002-ce9b-435b-a123-c83024c9fff1",
   "metadata": {},
   "outputs": [],
   "source": [
    "cv2.imshow(\"Biateral Blur 1\", blurred_image1)\n",
    "cv2.imshow(\"Biateral Blur 2\", blurred_image2)\n",
    "\n",
    "if cv2.waitKey(0) == ord(' '):\n",
    "    cv2.destroyAllWindows()"
   ]
  },
  {
   "cell_type": "markdown",
   "id": "fe3f8de1-d5b8-4c41-9b03-20432279d13e",
   "metadata": {},
   "source": [
    "# Thanks !!"
   ]
  }
 ],
 "metadata": {
  "kernelspec": {
   "display_name": "Python 3 (ipykernel)",
   "language": "python",
   "name": "python3"
  },
  "language_info": {
   "codemirror_mode": {
    "name": "ipython",
    "version": 3
   },
   "file_extension": ".py",
   "mimetype": "text/x-python",
   "name": "python",
   "nbconvert_exporter": "python",
   "pygments_lexer": "ipython3",
   "version": "3.11.0"
  }
 },
 "nbformat": 4,
 "nbformat_minor": 5
}
