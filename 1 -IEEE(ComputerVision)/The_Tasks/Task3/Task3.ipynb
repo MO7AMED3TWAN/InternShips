{
 "cells": [
  {
   "cell_type": "code",
   "execution_count": 2,
   "id": "ff616a8d-909d-431d-83f7-1337050cfbcd",
   "metadata": {},
   "outputs": [],
   "source": [
    "import os\n",
    "import cv2"
   ]
  },
  {
   "cell_type": "markdown",
   "id": "31700d79-f088-419f-93ce-f52bae4eb685",
   "metadata": {
    "jp-MarkdownHeadingCollapsed": true
   },
   "source": [
    "## Creation The Folders"
   ]
  },
  {
   "cell_type": "code",
   "execution_count": 3,
   "id": "2b2bd5e3-3ae5-44c6-9d95-ae235d2ff334",
   "metadata": {
    "scrolled": true
   },
   "outputs": [],
   "source": [
    "# os.makedirs(\"Results\")\n",
    "# os.chdir('./Results')\n",
    "\n",
    "# for i in range(1, 6):\n",
    "#     os.makedirs(f'folder{i}')"
   ]
  },
  {
   "cell_type": "code",
   "execution_count": 4,
   "id": "0489cddf-655a-4e67-a61a-21387e65741a",
   "metadata": {},
   "outputs": [
    {
     "data": {
      "text/plain": [
       "['.ipynb_checkpoints', 'genrate.py', 'Original', 'Results', 'Task3.ipynb']"
      ]
     },
     "execution_count": 4,
     "metadata": {},
     "output_type": "execute_result"
    }
   ],
   "source": [
    "# os.chdir('..')\n",
    "os.listdir('./')"
   ]
  },
  {
   "cell_type": "markdown",
   "id": "1c5411b6-5979-42c5-8ccd-4db5bc32f48c",
   "metadata": {
    "jp-MarkdownHeadingCollapsed": true
   },
   "source": [
    "## Dealing With Folder 1"
   ]
  },
  {
   "cell_type": "code",
   "execution_count": 5,
   "id": "ac00b2dc-aced-4387-ab41-8ad13d168028",
   "metadata": {},
   "outputs": [],
   "source": [
    "os.chdir('./Original/folder1/')\n",
    "F1= os.listdir('./')\n",
    "image_files = [img for img in F1]"
   ]
  },
  {
   "cell_type": "markdown",
   "id": "989a9f2c-f444-428f-9fef-3d23a1a48095",
   "metadata": {},
   "source": [
    "### Bluring An Images"
   ]
  },
  {
   "cell_type": "code",
   "execution_count": 40,
   "id": "e77b74be-f9d4-4ccf-b7a1-0861a9f3648c",
   "metadata": {},
   "outputs": [],
   "source": [
    "x=1\n",
    "N_Images = []\n",
    "\n",
    "for img in image_files:\n",
    "    \n",
    "    img = cv2.imread(f'./{img}')\n",
    "    \n",
    "    img = cv2.medianBlur(img, 3)\n",
    "\n",
    "    N_Images.append(img)\n",
    "    \n",
    "    cv2.imshow(f'{x}',img)\n",
    "    cv2.waitKey(1000)\n",
    "    cv2.destroyAllWindows()\n",
    "    x+=1"
   ]
  },
  {
   "cell_type": "markdown",
   "id": "0daf186a-9d72-42ac-a978-98a66ec5102c",
   "metadata": {},
   "source": [
    "### Saving An Images"
   ]
  },
  {
   "cell_type": "code",
   "execution_count": 43,
   "id": "efa9b978-70d4-45df-ae32-5019659ca7b6",
   "metadata": {},
   "outputs": [
    {
     "data": {
      "text/plain": [
       "[]"
      ]
     },
     "execution_count": 43,
     "metadata": {},
     "output_type": "execute_result"
    }
   ],
   "source": [
    "# os.chdir('..')\n",
    "os.chdir('./Results/folder1/')\n",
    "os.listdir('./')"
   ]
  },
  {
   "cell_type": "code",
   "execution_count": 44,
   "id": "c59564a1-a001-48e3-9fd8-4bb1f10150ee",
   "metadata": {},
   "outputs": [],
   "source": [
    "x=1\n",
    "for i, image in enumerate(N_Images):\n",
    "    cv2.imwrite(f'{x}.jpg', image)\n",
    "    x+=1"
   ]
  },
  {
   "cell_type": "code",
   "execution_count": 45,
   "id": "6728562a-4073-4088-8de4-8db067782fa7",
   "metadata": {
    "collapsed": true,
    "jupyter": {
     "outputs_hidden": true
    }
   },
   "outputs": [
    {
     "data": {
      "text/plain": [
       "['1.jpg',\n",
       " '10.jpg',\n",
       " '11.jpg',\n",
       " '12.jpg',\n",
       " '13.jpg',\n",
       " '14.jpg',\n",
       " '15.jpg',\n",
       " '16.jpg',\n",
       " '17.jpg',\n",
       " '18.jpg',\n",
       " '19.jpg',\n",
       " '2.jpg',\n",
       " '20.jpg',\n",
       " '21.jpg',\n",
       " '22.jpg',\n",
       " '23.jpg',\n",
       " '24.jpg',\n",
       " '25.jpg',\n",
       " '26.jpg',\n",
       " '27.jpg',\n",
       " '28.jpg',\n",
       " '29.jpg',\n",
       " '3.jpg',\n",
       " '30.jpg',\n",
       " '31.jpg',\n",
       " '32.jpg',\n",
       " '33.jpg',\n",
       " '34.jpg',\n",
       " '35.jpg',\n",
       " '36.jpg',\n",
       " '37.jpg',\n",
       " '38.jpg',\n",
       " '39.jpg',\n",
       " '4.jpg',\n",
       " '40.jpg',\n",
       " '41.jpg',\n",
       " '42.jpg',\n",
       " '43.jpg',\n",
       " '44.jpg',\n",
       " '45.jpg',\n",
       " '46.jpg',\n",
       " '47.jpg',\n",
       " '48.jpg',\n",
       " '49.jpg',\n",
       " '5.jpg',\n",
       " '50.jpg',\n",
       " '6.jpg',\n",
       " '7.jpg',\n",
       " '8.jpg',\n",
       " '9.jpg']"
      ]
     },
     "execution_count": 45,
     "metadata": {},
     "output_type": "execute_result"
    }
   ],
   "source": [
    "os.listdir('./')"
   ]
  },
  {
   "cell_type": "markdown",
   "id": "9750ae4d-0928-4294-bf66-bdba1a17b665",
   "metadata": {
    "jp-MarkdownHeadingCollapsed": true
   },
   "source": [
    "## Dealing With Folder 2"
   ]
  },
  {
   "cell_type": "code",
   "execution_count": 48,
   "id": "5677b0f3-b46b-43f5-81b3-56c5c4d2ec09",
   "metadata": {},
   "outputs": [],
   "source": [
    "# os.chdir('..')\n",
    "os.chdir('./Original/folder2/')\n",
    "F1= os.listdir('./')\n",
    "image_files = [img for img in F1]"
   ]
  },
  {
   "cell_type": "markdown",
   "id": "43048f60-677e-45f6-b01b-8d698246e424",
   "metadata": {},
   "source": [
    "### Bluring An Images"
   ]
  },
  {
   "cell_type": "code",
   "execution_count": 52,
   "id": "01fc822e-2334-4675-8345-36817b2d8990",
   "metadata": {},
   "outputs": [],
   "source": [
    "x=1\n",
    "N_Images1 = []\n",
    "\n",
    "for img in image_files:\n",
    "    \n",
    "    img = cv2.imread(f'./{img}')\n",
    "    \n",
    "    img = cv2.bilateralFilter(img, 3, 80, 80)\n",
    "\n",
    "    N_Images1.append(img)\n",
    "    \n",
    "    cv2.imshow(f'{x}',img)\n",
    "    cv2.waitKey(100)\n",
    "    cv2.destroyAllWindows()\n",
    "    x+=1"
   ]
  },
  {
   "cell_type": "markdown",
   "id": "a416982d-22d9-412e-a00c-93dea23d9126",
   "metadata": {},
   "source": [
    "### Saving An Images"
   ]
  },
  {
   "cell_type": "code",
   "execution_count": 55,
   "id": "777a727a-e38d-45f0-b6b7-2e4aee0461e1",
   "metadata": {},
   "outputs": [
    {
     "data": {
      "text/plain": [
       "[]"
      ]
     },
     "execution_count": 55,
     "metadata": {},
     "output_type": "execute_result"
    }
   ],
   "source": [
    "# os.chdir('..')\n",
    "os.chdir('./Results/folder2/')\n",
    "os.listdir('./')"
   ]
  },
  {
   "cell_type": "code",
   "execution_count": 58,
   "id": "94c2115e-5111-4f11-95af-5870813be4da",
   "metadata": {},
   "outputs": [],
   "source": [
    "x=1\n",
    "for i, image in enumerate(N_Images1):\n",
    "    cv2.imwrite(f'{x}.jpg', image)\n",
    "    x+=1"
   ]
  },
  {
   "cell_type": "code",
   "execution_count": 59,
   "id": "c06cacca-363a-4108-a9e4-1815b483a173",
   "metadata": {
    "collapsed": true,
    "jupyter": {
     "outputs_hidden": true
    }
   },
   "outputs": [
    {
     "data": {
      "text/plain": [
       "['.ipynb_checkpoints',\n",
       " '1.jpg',\n",
       " '10.jpg',\n",
       " '11.jpg',\n",
       " '12.jpg',\n",
       " '13.jpg',\n",
       " '14.jpg',\n",
       " '15.jpg',\n",
       " '16.jpg',\n",
       " '17.jpg',\n",
       " '18.jpg',\n",
       " '19.jpg',\n",
       " '2.jpg',\n",
       " '20.jpg',\n",
       " '21.jpg',\n",
       " '22.jpg',\n",
       " '23.jpg',\n",
       " '24.jpg',\n",
       " '25.jpg',\n",
       " '26.jpg',\n",
       " '27.jpg',\n",
       " '28.jpg',\n",
       " '29.jpg',\n",
       " '3.jpg',\n",
       " '30.jpg',\n",
       " '31.jpg',\n",
       " '32.jpg',\n",
       " '33.jpg',\n",
       " '34.jpg',\n",
       " '35.jpg',\n",
       " '36.jpg',\n",
       " '37.jpg',\n",
       " '38.jpg',\n",
       " '39.jpg',\n",
       " '4.jpg',\n",
       " '40.jpg',\n",
       " '41.jpg',\n",
       " '42.jpg',\n",
       " '43.jpg',\n",
       " '44.jpg',\n",
       " '45.jpg',\n",
       " '46.jpg',\n",
       " '47.jpg',\n",
       " '48.jpg',\n",
       " '49.jpg',\n",
       " '5.jpg',\n",
       " '50.jpg',\n",
       " '6.jpg',\n",
       " '7.jpg',\n",
       " '8.jpg',\n",
       " '9.jpg']"
      ]
     },
     "execution_count": 59,
     "metadata": {},
     "output_type": "execute_result"
    }
   ],
   "source": [
    "os.listdir('./')"
   ]
  },
  {
   "cell_type": "markdown",
   "id": "b16a6a99-b96a-4032-b8f3-1920def9d501",
   "metadata": {
    "jp-MarkdownHeadingCollapsed": true
   },
   "source": [
    "## Dealing With Folder 3"
   ]
  },
  {
   "cell_type": "code",
   "execution_count": 86,
   "id": "b8c2be8f-d021-4f5a-a004-49239d308e43",
   "metadata": {},
   "outputs": [],
   "source": [
    "# os.chdir('..')\n",
    "# os.listdir('./')\n",
    "os.chdir('./Original/folder3/')\n",
    "F1= os.listdir('./')\n",
    "image_files = [img for img in F1]"
   ]
  },
  {
   "cell_type": "markdown",
   "id": "c2673a85-1a0f-4774-ac0f-cf47b98adfab",
   "metadata": {},
   "source": [
    "### Bluring An Images"
   ]
  },
  {
   "cell_type": "code",
   "execution_count": 87,
   "id": "c8334585-df72-454c-ae90-a6188a59b6e8",
   "metadata": {},
   "outputs": [],
   "source": [
    "x=1\n",
    "N_Images2 = []\n",
    "\n",
    "for img in image_files:\n",
    "    \n",
    "    img = cv2.imread(f'./{img}')\n",
    "    \n",
    "    img = cv2.bilateralFilter(img, 3, 50, 50)\n",
    "\n",
    "    N_Images2.append(img)\n",
    "    \n",
    "    cv2.imshow(f'{x}',img)\n",
    "    cv2.waitKey(100)\n",
    "    cv2.destroyAllWindows()\n",
    "    x+=1"
   ]
  },
  {
   "cell_type": "markdown",
   "id": "f6e92a58-86ec-43e4-b18a-87a95f56d8b6",
   "metadata": {},
   "source": [
    "### Saving An Images"
   ]
  },
  {
   "cell_type": "code",
   "execution_count": 90,
   "id": "edd578d7-1926-439e-8726-c5eb2d8d219d",
   "metadata": {},
   "outputs": [
    {
     "data": {
      "text/plain": [
       "[]"
      ]
     },
     "execution_count": 90,
     "metadata": {},
     "output_type": "execute_result"
    }
   ],
   "source": [
    "# os.chdir('..')\n",
    "os.chdir('./Results/folder3/')\n",
    "os.listdir('./')"
   ]
  },
  {
   "cell_type": "code",
   "execution_count": 91,
   "id": "216e0d38-795d-4ea4-b6bb-b8d7fab7f16e",
   "metadata": {},
   "outputs": [],
   "source": [
    "x=1\n",
    "for i, image in enumerate(N_Images2):\n",
    "    cv2.imwrite(f'{x}.jpg', image)\n",
    "    x+=1"
   ]
  },
  {
   "cell_type": "code",
   "execution_count": 92,
   "id": "cc76284b-9427-4e21-a4ac-db00f05950b1",
   "metadata": {
    "collapsed": true,
    "jupyter": {
     "outputs_hidden": true
    }
   },
   "outputs": [
    {
     "data": {
      "text/plain": [
       "['1.jpg',\n",
       " '10.jpg',\n",
       " '11.jpg',\n",
       " '12.jpg',\n",
       " '13.jpg',\n",
       " '14.jpg',\n",
       " '15.jpg',\n",
       " '16.jpg',\n",
       " '17.jpg',\n",
       " '18.jpg',\n",
       " '19.jpg',\n",
       " '2.jpg',\n",
       " '20.jpg',\n",
       " '21.jpg',\n",
       " '22.jpg',\n",
       " '23.jpg',\n",
       " '24.jpg',\n",
       " '25.jpg',\n",
       " '26.jpg',\n",
       " '27.jpg',\n",
       " '28.jpg',\n",
       " '29.jpg',\n",
       " '3.jpg',\n",
       " '30.jpg',\n",
       " '31.jpg',\n",
       " '32.jpg',\n",
       " '33.jpg',\n",
       " '34.jpg',\n",
       " '35.jpg',\n",
       " '36.jpg',\n",
       " '37.jpg',\n",
       " '38.jpg',\n",
       " '39.jpg',\n",
       " '4.jpg',\n",
       " '40.jpg',\n",
       " '41.jpg',\n",
       " '42.jpg',\n",
       " '43.jpg',\n",
       " '44.jpg',\n",
       " '45.jpg',\n",
       " '46.jpg',\n",
       " '47.jpg',\n",
       " '48.jpg',\n",
       " '49.jpg',\n",
       " '5.jpg',\n",
       " '50.jpg',\n",
       " '6.jpg',\n",
       " '7.jpg',\n",
       " '8.jpg',\n",
       " '9.jpg']"
      ]
     },
     "execution_count": 92,
     "metadata": {},
     "output_type": "execute_result"
    }
   ],
   "source": [
    "os.listdir('./')"
   ]
  },
  {
   "cell_type": "markdown",
   "id": "2ded2475-6aef-482b-9256-dff0de1a66fd",
   "metadata": {
    "jp-MarkdownHeadingCollapsed": true
   },
   "source": [
    "## Dealing With Folder 4"
   ]
  },
  {
   "cell_type": "code",
   "execution_count": 96,
   "id": "802fc160-82c1-4699-9805-0c52b0cf9a58",
   "metadata": {},
   "outputs": [],
   "source": [
    "# os.chdir('..')\n",
    "# os.listdir('./')\n",
    "os.chdir('./Original/folder4/')\n",
    "F1= os.listdir('./')\n",
    "image_files = [img for img in F1]"
   ]
  },
  {
   "cell_type": "markdown",
   "id": "69b5bf65-8e9a-45ef-8137-f23dc52b8439",
   "metadata": {},
   "source": [
    "### Bluring An Images"
   ]
  },
  {
   "cell_type": "code",
   "execution_count": 101,
   "id": "27348992-6d62-40aa-8355-6db09a12042f",
   "metadata": {},
   "outputs": [],
   "source": [
    "x=1\n",
    "N_Images3 = []\n",
    "\n",
    "for img in image_files:\n",
    "    \n",
    "    img = cv2.imread(f'./{img}')\n",
    "    \n",
    "    img = cv2.medianBlur(img, 5)\n",
    "\n",
    "    N_Images3.append(img)\n",
    "    \n",
    "    cv2.imshow(f'{x}',img)\n",
    "    cv2.waitKey(100)\n",
    "    cv2.destroyAllWindows()\n",
    "    x+=1"
   ]
  },
  {
   "cell_type": "markdown",
   "id": "86652bd2-da61-4d99-8112-5b5bc9383fa4",
   "metadata": {},
   "source": [
    "### Saving An Images"
   ]
  },
  {
   "cell_type": "code",
   "execution_count": 159,
   "id": "263af42d-a2be-4cd6-bb61-4fc1f7a18003",
   "metadata": {},
   "outputs": [
    {
     "data": {
      "text/plain": [
       "['.ipynb_checkpoints',\n",
       " '1.jpg',\n",
       " '10.jpg',\n",
       " '11.jpg',\n",
       " '12.jpg',\n",
       " '13.jpg',\n",
       " '14.jpg',\n",
       " '15.jpg',\n",
       " '16.jpg',\n",
       " '17.jpg',\n",
       " '18.jpg',\n",
       " '19.jpg',\n",
       " '2.jpg',\n",
       " '20.jpg',\n",
       " '21.jpg',\n",
       " '22.jpg',\n",
       " '23.jpg',\n",
       " '24.jpg',\n",
       " '25.jpg',\n",
       " '26.jpg',\n",
       " '27.jpg',\n",
       " '28.jpg',\n",
       " '29.jpg',\n",
       " '3.jpg',\n",
       " '30.jpg',\n",
       " '31.jpg',\n",
       " '32.jpg',\n",
       " '33.jpg',\n",
       " '34.jpg',\n",
       " '35.jpg',\n",
       " '36.jpg',\n",
       " '37.jpg',\n",
       " '38.jpg',\n",
       " '39.jpg',\n",
       " '4.jpg',\n",
       " '40.jpg',\n",
       " '41.jpg',\n",
       " '42.jpg',\n",
       " '43.jpg',\n",
       " '44.jpg',\n",
       " '45.jpg',\n",
       " '46.jpg',\n",
       " '47.jpg',\n",
       " '48.jpg',\n",
       " '49.jpg',\n",
       " '5.jpg',\n",
       " '50.jpg',\n",
       " '6.jpg',\n",
       " '7.jpg',\n",
       " '8.jpg',\n",
       " '9.jpg']"
      ]
     },
     "execution_count": 159,
     "metadata": {},
     "output_type": "execute_result"
    }
   ],
   "source": [
    "# os.chdir('..')\n",
    "os.chdir('./Results/folder4/')\n",
    "os.listdir('./')"
   ]
  },
  {
   "cell_type": "code",
   "execution_count": 160,
   "id": "4b6cfbc5-47ae-4a6f-806e-f57540fe330a",
   "metadata": {},
   "outputs": [],
   "source": [
    "x=1\n",
    "for i, image in enumerate(N_Images3):\n",
    "    cv2.imwrite(f'{x}.jpg', image)\n",
    "    x+=1"
   ]
  },
  {
   "cell_type": "code",
   "execution_count": 161,
   "id": "48e89341-4a30-42df-b4f1-2c90650476aa",
   "metadata": {},
   "outputs": [
    {
     "data": {
      "text/plain": [
       "['.ipynb_checkpoints',\n",
       " '1.jpg',\n",
       " '10.jpg',\n",
       " '11.jpg',\n",
       " '12.jpg',\n",
       " '13.jpg',\n",
       " '14.jpg',\n",
       " '15.jpg',\n",
       " '16.jpg',\n",
       " '17.jpg',\n",
       " '18.jpg',\n",
       " '19.jpg',\n",
       " '2.jpg',\n",
       " '20.jpg',\n",
       " '21.jpg',\n",
       " '22.jpg',\n",
       " '23.jpg',\n",
       " '24.jpg',\n",
       " '25.jpg',\n",
       " '26.jpg',\n",
       " '27.jpg',\n",
       " '28.jpg',\n",
       " '29.jpg',\n",
       " '3.jpg',\n",
       " '30.jpg',\n",
       " '31.jpg',\n",
       " '32.jpg',\n",
       " '33.jpg',\n",
       " '34.jpg',\n",
       " '35.jpg',\n",
       " '36.jpg',\n",
       " '37.jpg',\n",
       " '38.jpg',\n",
       " '39.jpg',\n",
       " '4.jpg',\n",
       " '40.jpg',\n",
       " '41.jpg',\n",
       " '42.jpg',\n",
       " '43.jpg',\n",
       " '44.jpg',\n",
       " '45.jpg',\n",
       " '46.jpg',\n",
       " '47.jpg',\n",
       " '48.jpg',\n",
       " '49.jpg',\n",
       " '5.jpg',\n",
       " '50.jpg',\n",
       " '6.jpg',\n",
       " '7.jpg',\n",
       " '8.jpg',\n",
       " '9.jpg']"
      ]
     },
     "execution_count": 161,
     "metadata": {},
     "output_type": "execute_result"
    }
   ],
   "source": [
    "os.listdir('./')"
   ]
  },
  {
   "cell_type": "markdown",
   "id": "3191c30a-9001-41ad-bb9a-bc33d281a499",
   "metadata": {
    "jp-MarkdownHeadingCollapsed": true
   },
   "source": [
    "## Dealing With Folder 5"
   ]
  },
  {
   "cell_type": "code",
   "execution_count": 109,
   "id": "029d2e07-d0f1-4964-858d-80b3590ba86e",
   "metadata": {},
   "outputs": [],
   "source": [
    "# os.chdir('..')\n",
    "# os.listdir('./')\n",
    "os.chdir('./Original/folder5/')\n",
    "F1= os.listdir('./')\n",
    "image_files = [img for img in F1]"
   ]
  },
  {
   "cell_type": "markdown",
   "id": "fee6b802-fdfd-49ff-aac9-344f979d859f",
   "metadata": {},
   "source": [
    "### Bluring An Images"
   ]
  },
  {
   "cell_type": "code",
   "execution_count": 141,
   "id": "8b37640e-df20-41d6-a8e9-134a856291c3",
   "metadata": {},
   "outputs": [],
   "source": [
    "x=1\n",
    "N_Images4 = []\n",
    "\n",
    "for img in image_files:\n",
    "    \n",
    "    img = cv2.imread(f'./{img}')\n",
    "    \n",
    "    img = cv2.medianBlur(img, 3)\n",
    " \n",
    "    img = cv2.bilateralFilter(img, 3, 75, 100)    \n",
    "    \n",
    "    N_Images4.append(img)\n",
    "    \n",
    "    cv2.imshow(f'{x}',img)\n",
    "    cv2.waitKey(100)\n",
    "    cv2.destroyAllWindows()\n",
    "    x+=1"
   ]
  },
  {
   "cell_type": "markdown",
   "id": "5412d79b-26ad-4fd4-b788-510f2d691ea1",
   "metadata": {},
   "source": [
    "### Saving An Images"
   ]
  },
  {
   "cell_type": "code",
   "execution_count": 150,
   "id": "3fa4cdbf-1776-4555-9a6b-cfcb88057b15",
   "metadata": {},
   "outputs": [
    {
     "data": {
      "text/plain": [
       "[]"
      ]
     },
     "execution_count": 150,
     "metadata": {},
     "output_type": "execute_result"
    }
   ],
   "source": [
    "# os.chdir('..')\n",
    "# os.chdir('./Results/folder5/')\n",
    "os.listdir('./')"
   ]
  },
  {
   "cell_type": "code",
   "execution_count": 153,
   "id": "9feca9bd-cbf2-4124-983b-4d79bd1f0118",
   "metadata": {},
   "outputs": [],
   "source": [
    "x=1\n",
    "for i, image in enumerate(N_Images4):\n",
    "    cv2.imwrite(f'{x}.jpg', image)\n",
    "    x+=1"
   ]
  },
  {
   "cell_type": "code",
   "execution_count": 154,
   "id": "341bcab1-1ee8-4aa2-a338-dfa1d579e2ee",
   "metadata": {},
   "outputs": [
    {
     "data": {
      "text/plain": [
       "['.ipynb_checkpoints',\n",
       " '1.jpg',\n",
       " '10.jpg',\n",
       " '11.jpg',\n",
       " '12.jpg',\n",
       " '13.jpg',\n",
       " '14.jpg',\n",
       " '15.jpg',\n",
       " '16.jpg',\n",
       " '17.jpg',\n",
       " '18.jpg',\n",
       " '19.jpg',\n",
       " '2.jpg',\n",
       " '20.jpg',\n",
       " '21.jpg',\n",
       " '22.jpg',\n",
       " '23.jpg',\n",
       " '24.jpg',\n",
       " '25.jpg',\n",
       " '26.jpg',\n",
       " '27.jpg',\n",
       " '28.jpg',\n",
       " '29.jpg',\n",
       " '3.jpg',\n",
       " '30.jpg',\n",
       " '31.jpg',\n",
       " '32.jpg',\n",
       " '33.jpg',\n",
       " '34.jpg',\n",
       " '35.jpg',\n",
       " '36.jpg',\n",
       " '37.jpg',\n",
       " '38.jpg',\n",
       " '39.jpg',\n",
       " '4.jpg',\n",
       " '40.jpg',\n",
       " '41.jpg',\n",
       " '42.jpg',\n",
       " '43.jpg',\n",
       " '44.jpg',\n",
       " '45.jpg',\n",
       " '46.jpg',\n",
       " '47.jpg',\n",
       " '48.jpg',\n",
       " '49.jpg',\n",
       " '5.jpg',\n",
       " '50.jpg',\n",
       " '6.jpg',\n",
       " '7.jpg',\n",
       " '8.jpg',\n",
       " '9.jpg']"
      ]
     },
     "execution_count": 154,
     "metadata": {},
     "output_type": "execute_result"
    }
   ],
   "source": [
    "os.listdir('./')"
   ]
  },
  {
   "cell_type": "markdown",
   "id": "371acbb7-2622-46dd-950b-af3cd0211229",
   "metadata": {},
   "source": [
    "# Thank U"
   ]
  }
 ],
 "metadata": {
  "kernelspec": {
   "display_name": "Python 3 (ipykernel)",
   "language": "python",
   "name": "python3"
  },
  "language_info": {
   "codemirror_mode": {
    "name": "ipython",
    "version": 3
   },
   "file_extension": ".py",
   "mimetype": "text/x-python",
   "name": "python",
   "nbconvert_exporter": "python",
   "pygments_lexer": "ipython3",
   "version": "3.11.0"
  }
 },
 "nbformat": 4,
 "nbformat_minor": 5
}
