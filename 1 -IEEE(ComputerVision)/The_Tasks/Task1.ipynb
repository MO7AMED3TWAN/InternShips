{
 "cells": [
  {
   "cell_type": "markdown",
   "id": "0802ca89-2b03-4743-be94-42c86031a7f9",
   "metadata": {},
   "source": [
    "# Packages"
   ]
  },
  {
   "cell_type": "code",
   "execution_count": 1,
   "id": "b7e077f4-6e07-4ea0-8212-a8a23cddd944",
   "metadata": {},
   "outputs": [],
   "source": [
    "import cv2\n",
    "import numpy as np \n",
    "import matplotlib.pyplot as plt"
   ]
  },
  {
   "cell_type": "markdown",
   "id": "f3a3f705-aee7-4e20-919b-fd2e0e474d05",
   "metadata": {},
   "source": [
    "# Saving An Image"
   ]
  },
  {
   "cell_type": "code",
   "execution_count": 2,
   "id": "f78c1820-6d83-4d90-9cf9-bbe5d4772aab",
   "metadata": {},
   "outputs": [],
   "source": [
    "Img1 = cv2.imread(\"The_Data/Images/Wifi.jpg\")\n",
    "Img2 = cv2.imread(\"The_Data/Images/fly.jpg\")"
   ]
  },
  {
   "cell_type": "code",
   "execution_count": 3,
   "id": "4b1e28a9-99a8-4987-86f7-ca5fd4853a35",
   "metadata": {},
   "outputs": [],
   "source": [
    "cv2.imshow(\"1\" ,Img1)\n",
    "cv2.imshow(\"2\" ,Img2)\n",
    "cv2.waitKey(3000)\n",
    "cv2.destroyAllWindows()"
   ]
  },
  {
   "cell_type": "markdown",
   "id": "4236b72a-3cdd-414d-bab7-54cadb4ba5a5",
   "metadata": {},
   "source": [
    "## Resizing & Grayscale Images"
   ]
  },
  {
   "cell_type": "code",
   "execution_count": 4,
   "id": "596a367d-3ce2-42cc-9f72-6f8a9f72bcd5",
   "metadata": {},
   "outputs": [],
   "source": [
    "RImg1 = cv2.resize(Img1, (360, 240))\n",
    "GImg2 = cv2.cvtColor(Img2, cv2.COLOR_BGR2GRAY)"
   ]
  },
  {
   "cell_type": "code",
   "execution_count": 5,
   "id": "0b2faba0-f3c4-451d-a9b3-9b9644aaa732",
   "metadata": {},
   "outputs": [],
   "source": [
    "cv2.imshow(\"1\" ,RImg1)\n",
    "cv2.imshow(\"2\" ,GImg2)\n",
    "cv2.waitKey(3000)\n",
    "cv2.destroyAllWindows()"
   ]
  },
  {
   "cell_type": "markdown",
   "id": "300309c4-cb83-4f85-9ee6-d16308fb08c8",
   "metadata": {},
   "source": [
    "## Saving An Images"
   ]
  },
  {
   "cell_type": "code",
   "execution_count": 6,
   "id": "4d2b5afa-7710-4d51-80da-d9482a59b5f0",
   "metadata": {},
   "outputs": [
    {
     "data": {
      "text/plain": [
       "True"
      ]
     },
     "execution_count": 6,
     "metadata": {},
     "output_type": "execute_result"
    }
   ],
   "source": [
    "cv2.imwrite('./The_Results/Resizing_Image.jpg', RImg1)"
   ]
  },
  {
   "cell_type": "code",
   "execution_count": 7,
   "id": "fa7c38e6-f9d5-4ad9-b2f3-cf58af7d49ee",
   "metadata": {},
   "outputs": [
    {
     "data": {
      "text/plain": [
       "True"
      ]
     },
     "execution_count": 7,
     "metadata": {},
     "output_type": "execute_result"
    }
   ],
   "source": [
    "cv2.imwrite('./The_Results/Gray_Image.jpg', GImg2)"
   ]
  },
  {
   "cell_type": "markdown",
   "id": "dc35e5d4-d1e7-47ed-9574-d60b29d1a11d",
   "metadata": {},
   "source": [
    "# Reading Videos By Camera"
   ]
  },
  {
   "cell_type": "code",
   "execution_count": 8,
   "id": "62153c81-28f9-43de-b53f-38d6422eb4f3",
   "metadata": {},
   "outputs": [],
   "source": [
    "Vid = cv2.VideoCapture(0)"
   ]
  },
  {
   "cell_type": "code",
   "execution_count": 9,
   "id": "1b2c1b04-5ea5-4bb6-84a3-7f4dc0fb9bc1",
   "metadata": {},
   "outputs": [],
   "source": [
    "while True:\n",
    "    Succes, Frame = Vid.read()\n",
    "        \n",
    "    RFrame = cv2.resize(Frame, (720, 480))\n",
    "    \n",
    "    cv2.imshow(\"Video\",RFrame)\n",
    "    \n",
    "    if cv2.waitKey(25) == ord(' '):\n",
    "        break\n",
    "\n",
    "Vid.release()\n",
    "cv2.destroyAllWindows()"
   ]
  },
  {
   "cell_type": "markdown",
   "id": "c327ab18-af1f-4923-a875-7c1250c76391",
   "metadata": {},
   "source": [
    "# Thanks"
   ]
  }
 ],
 "metadata": {
  "kernelspec": {
   "display_name": "Python 3 (ipykernel)",
   "language": "python",
   "name": "python3"
  },
  "language_info": {
   "codemirror_mode": {
    "name": "ipython",
    "version": 3
   },
   "file_extension": ".py",
   "mimetype": "text/x-python",
   "name": "python",
   "nbconvert_exporter": "python",
   "pygments_lexer": "ipython3",
   "version": "3.11.0"
  }
 },
 "nbformat": 4,
 "nbformat_minor": 5
}
