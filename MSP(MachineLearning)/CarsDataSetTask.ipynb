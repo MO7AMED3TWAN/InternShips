{
 "cells": [
  {
   "cell_type": "markdown",
   "id": "589c7b58",
   "metadata": {},
   "source": [
    "Content:\n",
    "Used Cars Prices\n",
    "\n",
    "Here you find 78612 records about used cars:\n",
    "<br>\n",
    "60 Brand, 382 Model, 33 Modelyear,\n",
    "<br>\n",
    "1839 CarModel, 1397 AveragePrice,\n",
    "<br>\n",
    "893 MinimumPrice, 916 MaximumPrice,\n",
    "<br>\n",
    "over 128 Months/Year."
   ]
  },
  {
   "cell_type": "markdown",
   "id": "cda0af19",
   "metadata": {},
   "source": [
    "### Some Questions you should ask yourself about.\n",
    "1.  Is there any duplicates? .\n",
    "2. What about the nulls?.\n",
    "3. Does all columns has the a correct format in its values? if its not how should you make it better?\n",
    "4. Datatypes?\n",
    "5. Before starting , after seeing some info about the dataset and from the first look on the dataset , what columns you think will not be necessary in our dataset? (io: what columns you think dropping it will be better?).\n",
    "<br>\n",
    "<br>\n",
    "feel free to wirte only their names in the next cell\n",
    "\n",
    "Double Click here to start writing\n",
    "\n"
   ]
  },
  {
   "cell_type": "code",
   "execution_count": 1,
   "id": "a1a63822",
   "metadata": {},
   "outputs": [],
   "source": [
    "#import Libraries (numpy & Pandas)"
   ]
  },
  {
   "cell_type": "code",
   "execution_count": 2,
   "id": "f8e58ccb",
   "metadata": {},
   "outputs": [],
   "source": [
    "#read Data"
   ]
  },
  {
   "cell_type": "code",
   "execution_count": 3,
   "id": "1fb0eac6",
   "metadata": {},
   "outputs": [],
   "source": [
    "#print the first 8 row"
   ]
  },
  {
   "cell_type": "code",
   "execution_count": 4,
   "id": "ecea3d4c",
   "metadata": {},
   "outputs": [],
   "source": [
    "#print the shape Like (There are 84548 rows and 22 columns)"
   ]
  },
  {
   "cell_type": "code",
   "execution_count": 5,
   "id": "75a65e2a",
   "metadata": {},
   "outputs": [],
   "source": [
    "# try seeing some information about the data"
   ]
  },
  {
   "cell_type": "code",
   "execution_count": 6,
   "id": "390581cb",
   "metadata": {},
   "outputs": [],
   "source": [
    "# show the number of duplicates here"
   ]
  },
  {
   "cell_type": "code",
   "execution_count": 7,
   "id": "06f9a27e",
   "metadata": {},
   "outputs": [],
   "source": [
    "# show number of nulls"
   ]
  },
  {
   "cell_type": "code",
   "execution_count": 12,
   "id": "90719a09",
   "metadata": {},
   "outputs": [],
   "source": [
    "# updated the column names Like(To Start with Upper Litter)"
   ]
  },
  {
   "cell_type": "code",
   "execution_count": 9,
   "id": "e62ee7f7",
   "metadata": {},
   "outputs": [],
   "source": [
    "# Split Car Full Data into Brand, Model, And Year of The Model"
   ]
  },
  {
   "cell_type": "code",
   "execution_count": 10,
   "id": "d4054a66",
   "metadata": {},
   "outputs": [],
   "source": [
    "# Convert Average price, Minimum price, Maximum price to Numaarical Values"
   ]
  },
  {
   "cell_type": "code",
   "execution_count": 11,
   "id": "9d7bfd62",
   "metadata": {},
   "outputs": [],
   "source": [
    "# Split Month/Year Column to Year and Month "
   ]
  },
  {
   "cell_type": "code",
   "execution_count": 13,
   "id": "9b043d0c",
   "metadata": {},
   "outputs": [],
   "source": [
    "# let's start with (Average price ,Minimum price ,Maximum price ) , see the number of nulls in them , replace these nulls with the ( mean , median and mode) of these columns\n",
    "#and in the end check that there are not nulls in data "
   ]
  },
  {
   "cell_type": "code",
   "execution_count": null,
   "id": "fa00c6c3",
   "metadata": {},
   "outputs": [],
   "source": []
  }
 ],
 "metadata": {
  "kernelspec": {
   "display_name": "Python 3 (ipykernel)",
   "language": "python",
   "name": "python3"
  },
  "language_info": {
   "codemirror_mode": {
    "name": "ipython",
    "version": 3
   },
   "file_extension": ".py",
   "mimetype": "text/x-python",
   "name": "python",
   "nbconvert_exporter": "python",
   "pygments_lexer": "ipython3",
   "version": "3.10.3"
  }
 },
 "nbformat": 4,
 "nbformat_minor": 5
}
