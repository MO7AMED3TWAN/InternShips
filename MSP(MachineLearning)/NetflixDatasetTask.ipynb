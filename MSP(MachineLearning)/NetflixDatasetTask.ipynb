{
 "cells": [
  {
   "cell_type": "markdown",
   "id": "a4e7c79c",
   "metadata": {},
   "source": [
    "<h2>Dataset Content</h2>\n",
    "<p>This dataset consists of tv shows and movies available on Netflix as of 2019. The dataset is collected from Flixable which is a third-party Netflix search engine.\n",
    "\n",
    "In 2018, they released an interesting report which shows that the number of TV shows on Netflix has nearly tripled since 2010. The streaming service’s number of movies has decreased by more than 2,000 titles since 2010, while its number of TV shows has nearly tripled. It will be interesting to explore what all other insights can be obtained from the same dataset.\n",
    "\n",
    "<ul>Inspiration\n",
    "    <li>Understanding what content is available in different countries</li>\n",
    "    <li>Identifying similar content by matching text-based features</li>\n",
    "    <li>Network analysis of Actors / Directors and find interesting insights</li>\n",
    "    <li>Is Netflix has increasingly focusing on TV rather than movies in recent years.</li>\n",
    "</ul>"
   ]
  },
  {
   "cell_type": "code",
   "execution_count": 1,
   "id": "0f07a767",
   "metadata": {},
   "outputs": [],
   "source": [
    "import pandas as pd\n",
    "import numpy as np"
   ]
  },
  {
   "cell_type": "code",
   "execution_count": 28,
   "id": "a3de80b6",
   "metadata": {},
   "outputs": [
    {
     "data": {
      "text/html": [
       "<div>\n",
       "<style scoped>\n",
       "    .dataframe tbody tr th:only-of-type {\n",
       "        vertical-align: middle;\n",
       "    }\n",
       "\n",
       "    .dataframe tbody tr th {\n",
       "        vertical-align: top;\n",
       "    }\n",
       "\n",
       "    .dataframe thead th {\n",
       "        text-align: right;\n",
       "    }\n",
       "</style>\n",
       "<table border=\"1\" class=\"dataframe\">\n",
       "  <thead>\n",
       "    <tr style=\"text-align: right;\">\n",
       "      <th></th>\n",
       "      <th>show_id</th>\n",
       "      <th>type</th>\n",
       "      <th>title</th>\n",
       "      <th>director</th>\n",
       "      <th>cast</th>\n",
       "      <th>country</th>\n",
       "      <th>date_added</th>\n",
       "      <th>release_year</th>\n",
       "      <th>rating</th>\n",
       "      <th>duration</th>\n",
       "      <th>listed_in</th>\n",
       "      <th>description</th>\n",
       "    </tr>\n",
       "  </thead>\n",
       "  <tbody>\n",
       "    <tr>\n",
       "      <th>0</th>\n",
       "      <td>s1</td>\n",
       "      <td>Movie</td>\n",
       "      <td>Dick Johnson Is Dead</td>\n",
       "      <td>Kirsten Johnson</td>\n",
       "      <td>NaN</td>\n",
       "      <td>United States</td>\n",
       "      <td>September 25, 2021</td>\n",
       "      <td>2020</td>\n",
       "      <td>PG-13</td>\n",
       "      <td>90 min</td>\n",
       "      <td>Documentaries</td>\n",
       "      <td>As her father nears the end of his life, filmm...</td>\n",
       "    </tr>\n",
       "    <tr>\n",
       "      <th>1</th>\n",
       "      <td>s2</td>\n",
       "      <td>TV Show</td>\n",
       "      <td>Blood &amp; Water</td>\n",
       "      <td>NaN</td>\n",
       "      <td>Ama Qamata, Khosi Ngema, Gail Mabalane, Thaban...</td>\n",
       "      <td>South Africa</td>\n",
       "      <td>September 24, 2021</td>\n",
       "      <td>2021</td>\n",
       "      <td>TV-MA</td>\n",
       "      <td>2 Seasons</td>\n",
       "      <td>International TV Shows, TV Dramas, TV Mysteries</td>\n",
       "      <td>After crossing paths at a party, a Cape Town t...</td>\n",
       "    </tr>\n",
       "    <tr>\n",
       "      <th>2</th>\n",
       "      <td>s3</td>\n",
       "      <td>TV Show</td>\n",
       "      <td>Ganglands</td>\n",
       "      <td>Julien Leclercq</td>\n",
       "      <td>Sami Bouajila, Tracy Gotoas, Samuel Jouy, Nabi...</td>\n",
       "      <td>NaN</td>\n",
       "      <td>September 24, 2021</td>\n",
       "      <td>2021</td>\n",
       "      <td>TV-MA</td>\n",
       "      <td>1 Season</td>\n",
       "      <td>Crime TV Shows, International TV Shows, TV Act...</td>\n",
       "      <td>To protect his family from a powerful drug lor...</td>\n",
       "    </tr>\n",
       "    <tr>\n",
       "      <th>3</th>\n",
       "      <td>s4</td>\n",
       "      <td>TV Show</td>\n",
       "      <td>Jailbirds New Orleans</td>\n",
       "      <td>NaN</td>\n",
       "      <td>NaN</td>\n",
       "      <td>NaN</td>\n",
       "      <td>September 24, 2021</td>\n",
       "      <td>2021</td>\n",
       "      <td>TV-MA</td>\n",
       "      <td>1 Season</td>\n",
       "      <td>Docuseries, Reality TV</td>\n",
       "      <td>Feuds, flirtations and toilet talk go down amo...</td>\n",
       "    </tr>\n",
       "    <tr>\n",
       "      <th>4</th>\n",
       "      <td>s5</td>\n",
       "      <td>TV Show</td>\n",
       "      <td>Kota Factory</td>\n",
       "      <td>NaN</td>\n",
       "      <td>Mayur More, Jitendra Kumar, Ranjan Raj, Alam K...</td>\n",
       "      <td>India</td>\n",
       "      <td>September 24, 2021</td>\n",
       "      <td>2021</td>\n",
       "      <td>TV-MA</td>\n",
       "      <td>2 Seasons</td>\n",
       "      <td>International TV Shows, Romantic TV Shows, TV ...</td>\n",
       "      <td>In a city of coaching centers known to train I...</td>\n",
       "    </tr>\n",
       "  </tbody>\n",
       "</table>\n",
       "</div>"
      ],
      "text/plain": [
       "  show_id     type                  title         director  \\\n",
       "0      s1    Movie   Dick Johnson Is Dead  Kirsten Johnson   \n",
       "1      s2  TV Show          Blood & Water              NaN   \n",
       "2      s3  TV Show              Ganglands  Julien Leclercq   \n",
       "3      s4  TV Show  Jailbirds New Orleans              NaN   \n",
       "4      s5  TV Show           Kota Factory              NaN   \n",
       "\n",
       "                                                cast        country  \\\n",
       "0                                                NaN  United States   \n",
       "1  Ama Qamata, Khosi Ngema, Gail Mabalane, Thaban...   South Africa   \n",
       "2  Sami Bouajila, Tracy Gotoas, Samuel Jouy, Nabi...            NaN   \n",
       "3                                                NaN            NaN   \n",
       "4  Mayur More, Jitendra Kumar, Ranjan Raj, Alam K...          India   \n",
       "\n",
       "           date_added  release_year rating   duration  \\\n",
       "0  September 25, 2021          2020  PG-13     90 min   \n",
       "1  September 24, 2021          2021  TV-MA  2 Seasons   \n",
       "2  September 24, 2021          2021  TV-MA   1 Season   \n",
       "3  September 24, 2021          2021  TV-MA   1 Season   \n",
       "4  September 24, 2021          2021  TV-MA  2 Seasons   \n",
       "\n",
       "                                           listed_in  \\\n",
       "0                                      Documentaries   \n",
       "1    International TV Shows, TV Dramas, TV Mysteries   \n",
       "2  Crime TV Shows, International TV Shows, TV Act...   \n",
       "3                             Docuseries, Reality TV   \n",
       "4  International TV Shows, Romantic TV Shows, TV ...   \n",
       "\n",
       "                                         description  \n",
       "0  As her father nears the end of his life, filmm...  \n",
       "1  After crossing paths at a party, a Cape Town t...  \n",
       "2  To protect his family from a powerful drug lor...  \n",
       "3  Feuds, flirtations and toilet talk go down amo...  \n",
       "4  In a city of coaching centers known to train I...  "
      ]
     },
     "execution_count": 28,
     "metadata": {},
     "output_type": "execute_result"
    }
   ],
   "source": [
    "df = pd.read_csv(\"netflix_titles.csv\")\n",
    "df.head()"
   ]
  },
  {
   "cell_type": "code",
   "execution_count": 41,
   "id": "f6b927c7",
   "metadata": {},
   "outputs": [],
   "source": [
    "# how many rows and columns in this dataset?\n"
   ]
  },
  {
   "cell_type": "code",
   "execution_count": null,
   "id": "32e13b0f",
   "metadata": {},
   "outputs": [],
   "source": []
  },
  {
   "cell_type": "code",
   "execution_count": null,
   "id": "d7afe56c",
   "metadata": {},
   "outputs": [],
   "source": []
  },
  {
   "cell_type": "code",
   "execution_count": null,
   "id": "57b186f2",
   "metadata": {},
   "outputs": [],
   "source": []
  },
  {
   "cell_type": "code",
   "execution_count": null,
   "id": "294d48bb",
   "metadata": {},
   "outputs": [],
   "source": []
  },
  {
   "cell_type": "code",
   "execution_count": null,
   "id": "a5f42041",
   "metadata": {},
   "outputs": [],
   "source": [
    "# try seeing some information about the data and check if there is nulls\n"
   ]
  },
  {
   "cell_type": "markdown",
   "id": "c97fadd2",
   "metadata": {},
   "source": [
    "Some Questions you should ask yourself about.\n",
    "<br>\n",
    "1- Is there any duplicates? .\n",
    "<br>\n",
    "2-What about the nulls?.\n",
    "<br>\n",
    "3-Does all columns has the a correct format in its values? if its not how should you make it better?\n",
    "<br>\n",
    "4-Datatypes?\n",
    "<br>\n",
    "5- Before starting , after seeing some info about the dataset and from the first look on the dataset , what columns you think will not be necessary in our dataset? (io: what columns you think dropping it will be better?)\n",
    "<br>\n",
    "feel free to wirte only their names in the next cell"
   ]
  },
  {
   "cell_type": "markdown",
   "id": "770326af",
   "metadata": {},
   "source": [
    "Double Click here to start writing\n",
    "1. \n",
    "2. \n",
    "3. \n",
    "4. "
   ]
  },
  {
   "cell_type": "code",
   "execution_count": 42,
   "id": "a45657e2",
   "metadata": {},
   "outputs": [],
   "source": [
    "# "
   ]
  },
  {
   "cell_type": "code",
   "execution_count": 8,
   "id": "3cd44f5e",
   "metadata": {},
   "outputs": [],
   "source": [
    "# show the number of duplicates here\n",
    "\n"
   ]
  },
  {
   "cell_type": "code",
   "execution_count": 9,
   "id": "246fcada",
   "metadata": {},
   "outputs": [],
   "source": [
    "# show number of nulls\n",
    "\n"
   ]
  },
  {
   "cell_type": "markdown",
   "id": "fcb24a5e",
   "metadata": {},
   "source": []
  },
  {
   "cell_type": "code",
   "execution_count": 14,
   "id": "708d0c60",
   "metadata": {},
   "outputs": [],
   "source": [
    "# the cast column is full with nulls , replace the nulls with \"UnKnown\" \n",
    "# make a new column that describes the number of people in the cast (io :Hom many people in the cast? if it is unknown make it 0)\n",
    "# hint --> make an external function and use apply method\n",
    "\n"
   ]
  },
  {
   "cell_type": "markdown",
   "id": "ee88230a",
   "metadata": {},
   "source": [
    "now time to get rid of these nulls"
   ]
  },
  {
   "cell_type": "code",
   "execution_count": null,
   "id": "fa51f26d",
   "metadata": {},
   "outputs": [],
   "source": [
    "# let's start with date_added , see the number of nulls in it , replace these nulls with the mode of this column , and in the end \n",
    "# convert this column to be in suitable format date time ,(hint --> use fillna method)\n",
    "\n"
   ]
  },
  {
   "cell_type": "code",
   "execution_count": 22,
   "id": "ab5d58c0",
   "metadata": {},
   "outputs": [],
   "source": [
    "# now time for country \n",
    "# when you look closer at the dataset you will find that most of null values in country has the value \"Anime\" in listed_in column\n",
    "# make a function that checks if Anime is in listed_in column \n",
    "# and if it is then replace the null in country column of this row with \"Japan\" \n",
    "# if it is not then replace the null with the most frequented value (io : mode)\n",
    "# i will give you a first structue"
   ]
  },
  {
   "cell_type": "code",
   "execution_count": 37,
   "id": "1b4d39eb",
   "metadata": {},
   "outputs": [],
   "source": [
    "def country_null(x):\n",
    "    if pd.isnull(x[\"country\"]):\n",
    "        \n",
    "    return x\n",
    "\n",
    "df = df.apply(country_null,axis=1)# keep the axis like this to work"
   ]
  },
  {
   "cell_type": "code",
   "execution_count": null,
   "id": "625c65b9",
   "metadata": {},
   "outputs": [],
   "source": [
    "# director column , duration and rating , fill with mode"
   ]
  },
  {
   "cell_type": "markdown",
   "id": "bc34e429",
   "metadata": {},
   "source": [
    "<p>let's now google the categories and explore them</p>\n",
    "<ul>\n",
    "    <li>TV-MA:This program is specifically designed to be viewed by adults and therefore may be unsuitable for children under 17.</li>\n",
    "    <li>TV-14:This program contains some material that many parents would find unsuitable for children under 14 years of age.</li>\n",
    "    <li>TV-PG:This program contains material that parents may find unsuitable for younger children.</li>\n",
    "    <li>R:Under 17 requires accompanying parent or adult guardian,Parents are urged to learn more about the film before taking their young children with them.</li>\n",
    "    <li>PG-13:Some material may be inappropriate for children under 13. Parents are urged to be cautious. Some material may be inappropriate for pre-teenagers.</li>\n",
    "    <li>NR or UR:If a film has not been submitted for a rating or is an uncut version of a film that was submitted</li>\n",
    "    <li>PG:Some material may not be suitable for children,May contain some material parents might not like for their young children.</li>\n",
    "    <li>TV-Y7:This program is designed for children age 7 and above.</li>\n",
    "    <li>TV-G:This program is suitable for all ages.</li>\n",
    "    <li>TV-Y:Programs rated TV-Y are designed to be appropriate for children of all ages. The thematic elements portrayed in programs with this rating are specifically designed for a very young audience, including children ages 2-6.</li>\n",
    "    <li>TV-Y7-FV:is recommended for ages 7 and older, with the unique advisory that the program contains fantasy violence.</li>\n",
    "    <li>G:All ages admitted. Nothing that would offend parents for viewing by children.</li>\n",
    "    <li>NC-17:No One 17 and Under Admitted. Clearly adult. Children are not admitted.</li>\n",
    "</ul>\n",
    "\n",
    "<p> here we discover that UR and NR is the same rating(unrated,Not rated)<br>Uncut/extended versions of films that are labeled \"Unrated\" also contain warnings saying that the uncut version of the film contains content that differs from the theatrical release and might not be suitable for minors.<br> so we have the fix this. </p>"
   ]
  },
  {
   "cell_type": "code",
   "execution_count": null,
   "id": "42666358",
   "metadata": {},
   "outputs": [],
   "source": [
    "# in the rating column , UR and NR is the same where Unrated and Notrated , so fix this "
   ]
  },
  {
   "cell_type": "code",
   "execution_count": 40,
   "id": "e397285d",
   "metadata": {},
   "outputs": [],
   "source": [
    "# in the end of this notebook some columns is strange ,\n",
    "# what do you think we should do with something like show_id column \n",
    "# feel free to do the same for the columns you thought it is not necessary and please write an explanation why do you think it is not important\n"
   ]
  },
  {
   "cell_type": "code",
   "execution_count": null,
   "id": "acc2c8ad",
   "metadata": {},
   "outputs": [],
   "source": []
  }
 ],
 "metadata": {
  "kernelspec": {
   "display_name": "Python 3 (ipykernel)",
   "language": "python",
   "name": "python3"
  },
  "language_info": {
   "codemirror_mode": {
    "name": "ipython",
    "version": 3
   },
   "file_extension": ".py",
   "mimetype": "text/x-python",
   "name": "python",
   "nbconvert_exporter": "python",
   "pygments_lexer": "ipython3",
   "version": "3.10.3"
  }
 },
 "nbformat": 4,
 "nbformat_minor": 5
}
