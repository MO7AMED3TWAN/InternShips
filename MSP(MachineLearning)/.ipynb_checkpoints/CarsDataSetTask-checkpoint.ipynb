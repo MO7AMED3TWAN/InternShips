{
 "cells": [
  {
   "cell_type": "markdown",
   "id": "589c7b58",
   "metadata": {},
   "source": [
    "Content:\n",
    "Used Cars Prices\n",
    "\n",
    "Here you find 78612 records about used cars:\n",
    "<br>\n",
    "60 Brand, 382 Model, 33 Modelyear,\n",
    "<br>\n",
    "1839 CarModel, 1397 AveragePrice,\n",
    "<br>\n",
    "893 MinimumPrice, 916 MaximumPrice,\n",
    "<br>\n",
    "over 128 Months/Year."
   ]
  },
  {
   "cell_type": "markdown",
   "id": "cda0af19",
   "metadata": {},
   "source": [
    "### Some Questions you should ask yourself about.\n",
    "1.  Is there any duplicates? .\n",
    "2. What about the nulls?.\n",
    "3. Does all columns has the a correct format in its values? if its not how should you make it better?\n",
    "4. Datatypes?\n",
    "5. Before starting , after seeing some info about the dataset and from the first look on the dataset , what columns you think will not be necessary in our dataset? (io: what columns you think dropping it will be better?).\n",
    "<br>\n",
    "<br>\n",
    "feel free to wirte only their names in the next cell\n",
    "\n",
    "Double Click here to start writing\n",
    "\n"
   ]
  },
  {
   "cell_type": "code",
   "execution_count": 1,
   "id": "a1a63822",
   "metadata": {},
   "outputs": [],
   "source": [
    "#import Libraries (numpy & Pandas)\n",
    "import pandas as pd\n",
    "import numpy as np"
   ]
  },
  {
   "cell_type": "code",
   "execution_count": 2,
   "id": "f8e58ccb",
   "metadata": {},
   "outputs": [],
   "source": [
    "#read Data\n",
    "Data=pd.read_csv('./used_car_prices.csv')"
   ]
  },
  {
   "cell_type": "code",
   "execution_count": 3,
   "id": "1fb0eac6",
   "metadata": {},
   "outputs": [
    {
     "data": {
      "text/html": [
       "<div>\n",
       "<style scoped>\n",
       "    .dataframe tbody tr th:only-of-type {\n",
       "        vertical-align: middle;\n",
       "    }\n",
       "\n",
       "    .dataframe tbody tr th {\n",
       "        vertical-align: top;\n",
       "    }\n",
       "\n",
       "    .dataframe thead th {\n",
       "        text-align: right;\n",
       "    }\n",
       "</style>\n",
       "<table border=\"1\" class=\"dataframe\">\n",
       "  <thead>\n",
       "    <tr style=\"text-align: right;\">\n",
       "      <th></th>\n",
       "      <th>web-scraper-order</th>\n",
       "      <th>Car Model</th>\n",
       "      <th>Month/Year</th>\n",
       "      <th>Average price</th>\n",
       "      <th>Minimum price</th>\n",
       "      <th>Maximum price</th>\n",
       "    </tr>\n",
       "  </thead>\n",
       "  <tbody>\n",
       "    <tr>\n",
       "      <th>0</th>\n",
       "      <td>1680204632-1</td>\n",
       "      <td>Skoda Octavia A8 2022</td>\n",
       "      <td>2023-03</td>\n",
       "      <td>967,000 EGP</td>\n",
       "      <td>926,000 EGP</td>\n",
       "      <td>1,017,000 EGP</td>\n",
       "    </tr>\n",
       "    <tr>\n",
       "      <th>1</th>\n",
       "      <td>1680204632-2</td>\n",
       "      <td>Skoda Octavia A8 2022</td>\n",
       "      <td>2023-02</td>\n",
       "      <td>979,000 EGP</td>\n",
       "      <td>931,000 EGP</td>\n",
       "      <td>1,045,000 EGP</td>\n",
       "    </tr>\n",
       "    <tr>\n",
       "      <th>2</th>\n",
       "      <td>1680204632-3</td>\n",
       "      <td>Skoda Octavia A8 2022</td>\n",
       "      <td>2023-01</td>\n",
       "      <td>917,000 EGP</td>\n",
       "      <td>893,000 EGP</td>\n",
       "      <td>950,000 EGP</td>\n",
       "    </tr>\n",
       "    <tr>\n",
       "      <th>3</th>\n",
       "      <td>1680204632-4</td>\n",
       "      <td>Skoda Octavia A8 2022</td>\n",
       "      <td>2022-12</td>\n",
       "      <td>881,000 EGP</td>\n",
       "      <td>793,000 EGP</td>\n",
       "      <td>950,000 EGP</td>\n",
       "    </tr>\n",
       "    <tr>\n",
       "      <th>4</th>\n",
       "      <td>1680204632-5</td>\n",
       "      <td>Skoda Octavia A8 2022</td>\n",
       "      <td>2022-11</td>\n",
       "      <td>868,000 EGP</td>\n",
       "      <td>789,000 EGP</td>\n",
       "      <td>950,000 EGP</td>\n",
       "    </tr>\n",
       "    <tr>\n",
       "      <th>5</th>\n",
       "      <td>1680204632-6</td>\n",
       "      <td>Skoda Octavia A8 2022</td>\n",
       "      <td>2022-10</td>\n",
       "      <td>797,000 EGP</td>\n",
       "      <td>789,000 EGP</td>\n",
       "      <td>808,000 EGP</td>\n",
       "    </tr>\n",
       "    <tr>\n",
       "      <th>6</th>\n",
       "      <td>1680204632-7</td>\n",
       "      <td>Skoda Octavia A8 2022</td>\n",
       "      <td>2022-09</td>\n",
       "      <td>837,000 EGP</td>\n",
       "      <td>770,000 EGP</td>\n",
       "      <td>874,000 EGP</td>\n",
       "    </tr>\n",
       "    <tr>\n",
       "      <th>7</th>\n",
       "      <td>1680204632-8</td>\n",
       "      <td>Skoda Octavia A8 2022</td>\n",
       "      <td>2022-08</td>\n",
       "      <td>779,000 EGP</td>\n",
       "      <td>722,000 EGP</td>\n",
       "      <td>855,000 EGP</td>\n",
       "    </tr>\n",
       "  </tbody>\n",
       "</table>\n",
       "</div>"
      ],
      "text/plain": [
       "  web-scraper-order              Car Model Month/Year Average price  \\\n",
       "0      1680204632-1  Skoda Octavia A8 2022    2023-03   967,000 EGP   \n",
       "1      1680204632-2  Skoda Octavia A8 2022    2023-02   979,000 EGP   \n",
       "2      1680204632-3  Skoda Octavia A8 2022    2023-01   917,000 EGP   \n",
       "3      1680204632-4  Skoda Octavia A8 2022    2022-12   881,000 EGP   \n",
       "4      1680204632-5  Skoda Octavia A8 2022    2022-11   868,000 EGP   \n",
       "5      1680204632-6  Skoda Octavia A8 2022    2022-10   797,000 EGP   \n",
       "6      1680204632-7  Skoda Octavia A8 2022    2022-09   837,000 EGP   \n",
       "7      1680204632-8  Skoda Octavia A8 2022    2022-08   779,000 EGP   \n",
       "\n",
       "  Minimum price  Maximum price  \n",
       "0   926,000 EGP  1,017,000 EGP  \n",
       "1   931,000 EGP  1,045,000 EGP  \n",
       "2   893,000 EGP    950,000 EGP  \n",
       "3   793,000 EGP    950,000 EGP  \n",
       "4   789,000 EGP    950,000 EGP  \n",
       "5   789,000 EGP    808,000 EGP  \n",
       "6   770,000 EGP    874,000 EGP  \n",
       "7   722,000 EGP    855,000 EGP  "
      ]
     },
     "execution_count": 3,
     "metadata": {},
     "output_type": "execute_result"
    }
   ],
   "source": [
    "#print the first 8 row\n",
    "Data.head(8)"
   ]
  },
  {
   "cell_type": "code",
   "execution_count": 4,
   "id": "ecea3d4c",
   "metadata": {},
   "outputs": [
    {
     "data": {
      "text/plain": [
       "(79090, 6)"
      ]
     },
     "execution_count": 4,
     "metadata": {},
     "output_type": "execute_result"
    }
   ],
   "source": [
    "#print the shape Like (There are 84548 rows and 22 columns)\n",
    "Data.shape"
   ]
  },
  {
   "cell_type": "code",
   "execution_count": 5,
   "id": "75a65e2a",
   "metadata": {},
   "outputs": [
    {
     "name": "stdout",
     "output_type": "stream",
     "text": [
      "<class 'pandas.core.frame.DataFrame'>\n",
      "RangeIndex: 79090 entries, 0 to 79089\n",
      "Data columns (total 6 columns):\n",
      " #   Column             Non-Null Count  Dtype \n",
      "---  ------             --------------  ----- \n",
      " 0   web-scraper-order  79090 non-null  object\n",
      " 1   Car Model          79090 non-null  object\n",
      " 2   Month/Year         78612 non-null  object\n",
      " 3   Average price      78612 non-null  object\n",
      " 4   Minimum price      78612 non-null  object\n",
      " 5   Maximum price      78612 non-null  object\n",
      "dtypes: object(6)\n",
      "memory usage: 3.6+ MB\n"
     ]
    }
   ],
   "source": [
    "# try seeing some information about the data\n",
    "Data.info()"
   ]
  },
  {
   "cell_type": "code",
   "execution_count": 6,
   "id": "390581cb",
   "metadata": {},
   "outputs": [
    {
     "data": {
      "text/plain": [
       "0"
      ]
     },
     "execution_count": 6,
     "metadata": {},
     "output_type": "execute_result"
    }
   ],
   "source": [
    "# show the number of duplicates here\n",
    "Data.duplicated().sum()"
   ]
  },
  {
   "cell_type": "code",
   "execution_count": 7,
   "id": "06f9a27e",
   "metadata": {},
   "outputs": [
    {
     "data": {
      "text/plain": [
       "web-scraper-order      0\n",
       "Car Model              0\n",
       "Month/Year           478\n",
       "Average price        478\n",
       "Minimum price        478\n",
       "Maximum price        478\n",
       "dtype: int64"
      ]
     },
     "execution_count": 7,
     "metadata": {},
     "output_type": "execute_result"
    }
   ],
   "source": [
    "# show number of nulls\n",
    "Data.isna().sum()"
   ]
  },
  {
   "cell_type": "code",
   "execution_count": 8,
   "id": "90719a09",
   "metadata": {},
   "outputs": [
    {
     "data": {
      "text/html": [
       "<div>\n",
       "<style scoped>\n",
       "    .dataframe tbody tr th:only-of-type {\n",
       "        vertical-align: middle;\n",
       "    }\n",
       "\n",
       "    .dataframe tbody tr th {\n",
       "        vertical-align: top;\n",
       "    }\n",
       "\n",
       "    .dataframe thead th {\n",
       "        text-align: right;\n",
       "    }\n",
       "</style>\n",
       "<table border=\"1\" class=\"dataframe\">\n",
       "  <thead>\n",
       "    <tr style=\"text-align: right;\">\n",
       "      <th></th>\n",
       "      <th>Web-Scraper-Order</th>\n",
       "      <th>Car Model</th>\n",
       "      <th>Month/Year</th>\n",
       "      <th>Average Price</th>\n",
       "      <th>Minimum Price</th>\n",
       "      <th>Maximum Price</th>\n",
       "    </tr>\n",
       "  </thead>\n",
       "  <tbody>\n",
       "    <tr>\n",
       "      <th>0</th>\n",
       "      <td>1680204632-1</td>\n",
       "      <td>Skoda Octavia A8 2022</td>\n",
       "      <td>2023-03</td>\n",
       "      <td>967,000 EGP</td>\n",
       "      <td>926,000 EGP</td>\n",
       "      <td>1,017,000 EGP</td>\n",
       "    </tr>\n",
       "    <tr>\n",
       "      <th>1</th>\n",
       "      <td>1680204632-2</td>\n",
       "      <td>Skoda Octavia A8 2022</td>\n",
       "      <td>2023-02</td>\n",
       "      <td>979,000 EGP</td>\n",
       "      <td>931,000 EGP</td>\n",
       "      <td>1,045,000 EGP</td>\n",
       "    </tr>\n",
       "  </tbody>\n",
       "</table>\n",
       "</div>"
      ],
      "text/plain": [
       "  Web-Scraper-Order              Car Model Month/Year Average Price  \\\n",
       "0      1680204632-1  Skoda Octavia A8 2022    2023-03   967,000 EGP   \n",
       "1      1680204632-2  Skoda Octavia A8 2022    2023-02   979,000 EGP   \n",
       "\n",
       "  Minimum Price  Maximum Price  \n",
       "0   926,000 EGP  1,017,000 EGP  \n",
       "1   931,000 EGP  1,045,000 EGP  "
      ]
     },
     "execution_count": 8,
     "metadata": {},
     "output_type": "execute_result"
    }
   ],
   "source": [
    "# updated the column names Like(To Start with Upper Litter)\n",
    "def Capitalize(ColumnName):\n",
    "    return ColumnName.title()\n",
    "\n",
    "Data.columns = map(Capitalize, Data.columns)\n",
    "Data.head(2)"
   ]
  },
  {
   "cell_type": "code",
   "execution_count": 9,
   "id": "e62ee7f7",
   "metadata": {},
   "outputs": [
    {
     "data": {
      "text/html": [
       "<div>\n",
       "<style scoped>\n",
       "    .dataframe tbody tr th:only-of-type {\n",
       "        vertical-align: middle;\n",
       "    }\n",
       "\n",
       "    .dataframe tbody tr th {\n",
       "        vertical-align: top;\n",
       "    }\n",
       "\n",
       "    .dataframe thead th {\n",
       "        text-align: right;\n",
       "    }\n",
       "</style>\n",
       "<table border=\"1\" class=\"dataframe\">\n",
       "  <thead>\n",
       "    <tr style=\"text-align: right;\">\n",
       "      <th></th>\n",
       "      <th>Month/Year</th>\n",
       "      <th>Average Price</th>\n",
       "      <th>Minimum Price</th>\n",
       "      <th>Maximum Price</th>\n",
       "      <th>Brand</th>\n",
       "      <th>YearOfModel</th>\n",
       "      <th>Model</th>\n",
       "    </tr>\n",
       "  </thead>\n",
       "  <tbody>\n",
       "    <tr>\n",
       "      <th>0</th>\n",
       "      <td>2023-03</td>\n",
       "      <td>967,000 EGP</td>\n",
       "      <td>926,000 EGP</td>\n",
       "      <td>1,017,000 EGP</td>\n",
       "      <td>Skoda</td>\n",
       "      <td>2022</td>\n",
       "      <td>Octavia A8</td>\n",
       "    </tr>\n",
       "    <tr>\n",
       "      <th>1</th>\n",
       "      <td>2023-02</td>\n",
       "      <td>979,000 EGP</td>\n",
       "      <td>931,000 EGP</td>\n",
       "      <td>1,045,000 EGP</td>\n",
       "      <td>Skoda</td>\n",
       "      <td>2022</td>\n",
       "      <td>Octavia A8</td>\n",
       "    </tr>\n",
       "  </tbody>\n",
       "</table>\n",
       "</div>"
      ],
      "text/plain": [
       "  Month/Year Average Price Minimum Price  Maximum Price  Brand YearOfModel  \\\n",
       "0    2023-03   967,000 EGP   926,000 EGP  1,017,000 EGP  Skoda        2022   \n",
       "1    2023-02   979,000 EGP   931,000 EGP  1,045,000 EGP  Skoda        2022   \n",
       "\n",
       "        Model  \n",
       "0  Octavia A8  \n",
       "1  Octavia A8  "
      ]
     },
     "execution_count": 9,
     "metadata": {},
     "output_type": "execute_result"
    }
   ],
   "source": [
    "# Split Car Full Data into Brand, Model, And Year of The Model\n",
    "Data[['Brand', 'Model1', 'Model2', 'YearOfModel']]=Data['Car Model'].str.split(n=3 ,expand=True)\n",
    "Data['Model'] = Data['Model1'] + ' ' + Data['Model2']\n",
    "Data = Data.drop(['Car Model', 'Model1', 'Model2'], axis=1)# Drop The Old Columns\n",
    "Data = Data.drop('Web-Scraper-Order', axis=1) # Drop Id Column\n",
    "\n",
    "Data.head(2)"
   ]
  },
  {
   "cell_type": "code",
   "execution_count": 10,
   "id": "cd2dfd19-9117-488c-95aa-a1b3d6922d83",
   "metadata": {},
   "outputs": [],
   "source": [
    "import pandas as pd\n",
    "\n",
    "# Assuming Data is your DataFrame\n",
    "Data['Average Price'] = pd.to_numeric(Data['Average Price'].str.replace('[^\\d.]', '', regex=True), errors='coerce')\n",
    "Data['Minimum Price'] = pd.to_numeric(Data['Minimum Price'].str.replace('[^\\d.]', '', regex=True), errors='coerce')\n",
    "Data['Maximum Price'] = pd.to_numeric(Data['Maximum Price'].str.replace('[^\\d.]', '', regex=True), errors='coerce')"
   ]
  },
  {
   "cell_type": "code",
   "execution_count": 11,
   "id": "9fa12412-24ea-4b92-89b5-1a5396371654",
   "metadata": {},
   "outputs": [
    {
     "data": {
      "text/html": [
       "<div>\n",
       "<style scoped>\n",
       "    .dataframe tbody tr th:only-of-type {\n",
       "        vertical-align: middle;\n",
       "    }\n",
       "\n",
       "    .dataframe tbody tr th {\n",
       "        vertical-align: top;\n",
       "    }\n",
       "\n",
       "    .dataframe thead th {\n",
       "        text-align: right;\n",
       "    }\n",
       "</style>\n",
       "<table border=\"1\" class=\"dataframe\">\n",
       "  <thead>\n",
       "    <tr style=\"text-align: right;\">\n",
       "      <th></th>\n",
       "      <th>Month/Year</th>\n",
       "      <th>Average Price</th>\n",
       "      <th>Minimum Price</th>\n",
       "      <th>Maximum Price</th>\n",
       "      <th>Brand</th>\n",
       "      <th>YearOfModel</th>\n",
       "      <th>Model</th>\n",
       "    </tr>\n",
       "  </thead>\n",
       "  <tbody>\n",
       "    <tr>\n",
       "      <th>0</th>\n",
       "      <td>2023-03</td>\n",
       "      <td>967000.0</td>\n",
       "      <td>926000.0</td>\n",
       "      <td>1017000.0</td>\n",
       "      <td>Skoda</td>\n",
       "      <td>2022</td>\n",
       "      <td>Octavia A8</td>\n",
       "    </tr>\n",
       "    <tr>\n",
       "      <th>1</th>\n",
       "      <td>2023-02</td>\n",
       "      <td>979000.0</td>\n",
       "      <td>931000.0</td>\n",
       "      <td>1045000.0</td>\n",
       "      <td>Skoda</td>\n",
       "      <td>2022</td>\n",
       "      <td>Octavia A8</td>\n",
       "    </tr>\n",
       "  </tbody>\n",
       "</table>\n",
       "</div>"
      ],
      "text/plain": [
       "  Month/Year  Average Price  Minimum Price  Maximum Price  Brand YearOfModel  \\\n",
       "0    2023-03       967000.0       926000.0      1017000.0  Skoda        2022   \n",
       "1    2023-02       979000.0       931000.0      1045000.0  Skoda        2022   \n",
       "\n",
       "        Model  \n",
       "0  Octavia A8  \n",
       "1  Octavia A8  "
      ]
     },
     "execution_count": 11,
     "metadata": {},
     "output_type": "execute_result"
    }
   ],
   "source": [
    "Data.head(2)"
   ]
  },
  {
   "cell_type": "code",
   "execution_count": 12,
   "id": "625e58df-54e4-4859-9cf6-6a792a59f3bc",
   "metadata": {},
   "outputs": [
    {
     "name": "stdout",
     "output_type": "stream",
     "text": [
      "<class 'pandas.core.frame.DataFrame'>\n",
      "RangeIndex: 79090 entries, 0 to 79089\n",
      "Data columns (total 7 columns):\n",
      " #   Column         Non-Null Count  Dtype  \n",
      "---  ------         --------------  -----  \n",
      " 0   Month/Year     78612 non-null  object \n",
      " 1   Average Price  78612 non-null  float64\n",
      " 2   Minimum Price  78612 non-null  float64\n",
      " 3   Maximum Price  78612 non-null  float64\n",
      " 4   Brand          79090 non-null  object \n",
      " 5   YearOfModel    10080 non-null  object \n",
      " 6   Model          79090 non-null  object \n",
      "dtypes: float64(3), object(4)\n",
      "memory usage: 4.2+ MB\n"
     ]
    }
   ],
   "source": [
    "Data.info()"
   ]
  },
  {
   "cell_type": "code",
   "execution_count": 13,
   "id": "9d7bfd62",
   "metadata": {},
   "outputs": [],
   "source": [
    "# Split Month/Year Column to Year and Month \n",
    "Data[['Year', 'Month']] = Data['Month/Year'].str.split('-', expand=True)\n",
    "Data = Data.drop('Month/Year', axis=True) "
   ]
  },
  {
   "cell_type": "code",
   "execution_count": 14,
   "id": "8fd539bd-f910-47ee-bbd2-3c0128bb514c",
   "metadata": {},
   "outputs": [
    {
     "data": {
      "text/html": [
       "<div>\n",
       "<style scoped>\n",
       "    .dataframe tbody tr th:only-of-type {\n",
       "        vertical-align: middle;\n",
       "    }\n",
       "\n",
       "    .dataframe tbody tr th {\n",
       "        vertical-align: top;\n",
       "    }\n",
       "\n",
       "    .dataframe thead th {\n",
       "        text-align: right;\n",
       "    }\n",
       "</style>\n",
       "<table border=\"1\" class=\"dataframe\">\n",
       "  <thead>\n",
       "    <tr style=\"text-align: right;\">\n",
       "      <th></th>\n",
       "      <th>Average Price</th>\n",
       "      <th>Minimum Price</th>\n",
       "      <th>Maximum Price</th>\n",
       "      <th>Brand</th>\n",
       "      <th>YearOfModel</th>\n",
       "      <th>Model</th>\n",
       "      <th>Year</th>\n",
       "      <th>Month</th>\n",
       "    </tr>\n",
       "  </thead>\n",
       "  <tbody>\n",
       "    <tr>\n",
       "      <th>0</th>\n",
       "      <td>967000.0</td>\n",
       "      <td>926000.0</td>\n",
       "      <td>1017000.0</td>\n",
       "      <td>Skoda</td>\n",
       "      <td>2022</td>\n",
       "      <td>Octavia A8</td>\n",
       "      <td>2023</td>\n",
       "      <td>03</td>\n",
       "    </tr>\n",
       "    <tr>\n",
       "      <th>1</th>\n",
       "      <td>979000.0</td>\n",
       "      <td>931000.0</td>\n",
       "      <td>1045000.0</td>\n",
       "      <td>Skoda</td>\n",
       "      <td>2022</td>\n",
       "      <td>Octavia A8</td>\n",
       "      <td>2023</td>\n",
       "      <td>02</td>\n",
       "    </tr>\n",
       "    <tr>\n",
       "      <th>2</th>\n",
       "      <td>917000.0</td>\n",
       "      <td>893000.0</td>\n",
       "      <td>950000.0</td>\n",
       "      <td>Skoda</td>\n",
       "      <td>2022</td>\n",
       "      <td>Octavia A8</td>\n",
       "      <td>2023</td>\n",
       "      <td>01</td>\n",
       "    </tr>\n",
       "    <tr>\n",
       "      <th>3</th>\n",
       "      <td>881000.0</td>\n",
       "      <td>793000.0</td>\n",
       "      <td>950000.0</td>\n",
       "      <td>Skoda</td>\n",
       "      <td>2022</td>\n",
       "      <td>Octavia A8</td>\n",
       "      <td>2022</td>\n",
       "      <td>12</td>\n",
       "    </tr>\n",
       "    <tr>\n",
       "      <th>4</th>\n",
       "      <td>868000.0</td>\n",
       "      <td>789000.0</td>\n",
       "      <td>950000.0</td>\n",
       "      <td>Skoda</td>\n",
       "      <td>2022</td>\n",
       "      <td>Octavia A8</td>\n",
       "      <td>2022</td>\n",
       "      <td>11</td>\n",
       "    </tr>\n",
       "  </tbody>\n",
       "</table>\n",
       "</div>"
      ],
      "text/plain": [
       "   Average Price  Minimum Price  Maximum Price  Brand YearOfModel       Model  \\\n",
       "0       967000.0       926000.0      1017000.0  Skoda        2022  Octavia A8   \n",
       "1       979000.0       931000.0      1045000.0  Skoda        2022  Octavia A8   \n",
       "2       917000.0       893000.0       950000.0  Skoda        2022  Octavia A8   \n",
       "3       881000.0       793000.0       950000.0  Skoda        2022  Octavia A8   \n",
       "4       868000.0       789000.0       950000.0  Skoda        2022  Octavia A8   \n",
       "\n",
       "   Year Month  \n",
       "0  2023    03  \n",
       "1  2023    02  \n",
       "2  2023    01  \n",
       "3  2022    12  \n",
       "4  2022    11  "
      ]
     },
     "execution_count": 14,
     "metadata": {},
     "output_type": "execute_result"
    }
   ],
   "source": [
    "Data.head()"
   ]
  },
  {
   "cell_type": "code",
   "execution_count": 15,
   "id": "9b043d0c",
   "metadata": {},
   "outputs": [],
   "source": [
    "# let's start with (Average price ,Minimum price ,Maximum price ) , see the number of nulls in them , replace these nulls with the ( mean , median and mode) of these columns\n",
    "#and in the end check that there are not nulls in data \n",
    "mean_value   = Data['Average Price'].mean()\n",
    "median_value = Data['Minimum Price'].median()\n",
    "mode_value   = Data['Maximum Price'].mode().iloc[0]\n",
    "\n",
    "Data['Average Price'].fillna(mean_value  , inplace=True)\n",
    "Data['Minimum Price'].fillna(median_value, inplace=True)\n",
    "Data['Maximum Price'].fillna(mode_value  , inplace=True)"
   ]
  },
  {
   "cell_type": "code",
   "execution_count": 16,
   "id": "fa00c6c3",
   "metadata": {},
   "outputs": [
    {
     "data": {
      "text/plain": [
       "Average Price    0\n",
       "Minimum Price    0\n",
       "Maximum Price    0\n",
       "dtype: int64"
      ]
     },
     "execution_count": 16,
     "metadata": {},
     "output_type": "execute_result"
    }
   ],
   "source": [
    "Data[['Average Price', 'Minimum Price', 'Maximum Price']].isna().sum()"
   ]
  },
  {
   "cell_type": "markdown",
   "id": "42ed7ff0-88ad-478b-8faa-64f755653fff",
   "metadata": {},
   "source": [
    "# Thanks"
   ]
  }
 ],
 "metadata": {
  "kernelspec": {
   "display_name": "Python 3 (ipykernel)",
   "language": "python",
   "name": "python3"
  },
  "language_info": {
   "codemirror_mode": {
    "name": "ipython",
    "version": 3
   },
   "file_extension": ".py",
   "mimetype": "text/x-python",
   "name": "python",
   "nbconvert_exporter": "python",
   "pygments_lexer": "ipython3",
   "version": "3.11.0"
  }
 },
 "nbformat": 4,
 "nbformat_minor": 5
}
