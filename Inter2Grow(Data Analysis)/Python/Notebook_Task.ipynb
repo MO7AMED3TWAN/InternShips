{
 "cells": [
  {
   "cell_type": "markdown",
   "id": "c9f5ea67-611d-4b87-a505-0523811c2c7e",
   "metadata": {
    "tags": []
   },
   "source": [
    "## Importing Packages\n"
   ]
  },
  {
   "cell_type": "code",
   "execution_count": 1,
   "id": "687454f5-b8f3-42c2-83e1-40144fe499d1",
   "metadata": {
    "tags": []
   },
   "outputs": [],
   "source": [
    "import pandas as pd\n",
    "import matplotlib.pyplot as plt"
   ]
  },
  {
   "cell_type": "markdown",
   "id": "c509e8d6-8811-442a-ad06-7b1ecdc2fb5c",
   "metadata": {},
   "source": [
    "## Getting Data"
   ]
  },
  {
   "cell_type": "code",
   "execution_count": 2,
   "id": "bbb697be-a583-4491-b3e8-0e14acc1832f",
   "metadata": {
    "tags": []
   },
   "outputs": [],
   "source": [
    "DataFile = pd.read_csv('sales_data.csv')"
   ]
  },
  {
   "cell_type": "markdown",
   "id": "f6fba759-716a-4d3e-9926-00ede6c63691",
   "metadata": {},
   "source": [
    "## Showing Data"
   ]
  },
  {
   "cell_type": "code",
   "execution_count": 3,
   "id": "6ad43cb5-dfeb-4284-bc54-b575f2ef3653",
   "metadata": {
    "tags": []
   },
   "outputs": [
    {
     "data": {
      "text/html": [
       "<div>\n",
       "<style scoped>\n",
       "    .dataframe tbody tr th:only-of-type {\n",
       "        vertical-align: middle;\n",
       "    }\n",
       "\n",
       "    .dataframe tbody tr th {\n",
       "        vertical-align: top;\n",
       "    }\n",
       "\n",
       "    .dataframe thead th {\n",
       "        text-align: right;\n",
       "    }\n",
       "</style>\n",
       "<table border=\"1\" class=\"dataframe\">\n",
       "  <thead>\n",
       "    <tr style=\"text-align: right;\">\n",
       "      <th></th>\n",
       "      <th>date</th>\n",
       "      <th>product</th>\n",
       "      <th>category</th>\n",
       "      <th>price</th>\n",
       "      <th>quantity</th>\n",
       "      <th>revenue</th>\n",
       "    </tr>\n",
       "  </thead>\n",
       "  <tbody>\n",
       "    <tr>\n",
       "      <th>0</th>\n",
       "      <td>2022-01-01</td>\n",
       "      <td>Smartphone</td>\n",
       "      <td>Electronics</td>\n",
       "      <td>600.0</td>\n",
       "      <td>10.0</td>\n",
       "      <td>6000.0</td>\n",
       "    </tr>\n",
       "    <tr>\n",
       "      <th>1</th>\n",
       "      <td>2022-01-01</td>\n",
       "      <td>Laptop</td>\n",
       "      <td>Electronics</td>\n",
       "      <td>1200.0</td>\n",
       "      <td>5.0</td>\n",
       "      <td>6000.0</td>\n",
       "    </tr>\n",
       "    <tr>\n",
       "      <th>2</th>\n",
       "      <td>2022-01-02</td>\n",
       "      <td>T-Shirt</td>\n",
       "      <td>Clothing</td>\n",
       "      <td>20.0</td>\n",
       "      <td>50.0</td>\n",
       "      <td>1000.0</td>\n",
       "    </tr>\n",
       "    <tr>\n",
       "      <th>3</th>\n",
       "      <td>2022-01-03</td>\n",
       "      <td>Headphones</td>\n",
       "      <td>Electronics</td>\n",
       "      <td>100.0</td>\n",
       "      <td>20.0</td>\n",
       "      <td>2000.0</td>\n",
       "    </tr>\n",
       "    <tr>\n",
       "      <th>4</th>\n",
       "      <td>2022-01-04</td>\n",
       "      <td>T-Shirt</td>\n",
       "      <td>Clothing</td>\n",
       "      <td>20.0</td>\n",
       "      <td>25.0</td>\n",
       "      <td>500.0</td>\n",
       "    </tr>\n",
       "  </tbody>\n",
       "</table>\n",
       "</div>"
      ],
      "text/plain": [
       "         date     product     category   price  quantity  revenue\n",
       "0  2022-01-01  Smartphone  Electronics   600.0      10.0   6000.0\n",
       "1  2022-01-01      Laptop  Electronics  1200.0       5.0   6000.0\n",
       "2  2022-01-02     T-Shirt     Clothing    20.0      50.0   1000.0\n",
       "3  2022-01-03  Headphones  Electronics   100.0      20.0   2000.0\n",
       "4  2022-01-04     T-Shirt     Clothing    20.0      25.0    500.0"
      ]
     },
     "execution_count": 3,
     "metadata": {},
     "output_type": "execute_result"
    }
   ],
   "source": [
    "DataFile.head()"
   ]
  },
  {
   "cell_type": "code",
   "execution_count": 4,
   "id": "821acad4-5064-453f-9f94-186ba132a3d5",
   "metadata": {
    "tags": []
   },
   "outputs": [
    {
     "name": "stdout",
     "output_type": "stream",
     "text": [
      "<class 'pandas.core.frame.DataFrame'>\n",
      "RangeIndex: 369 entries, 0 to 368\n",
      "Data columns (total 6 columns):\n",
      " #   Column    Non-Null Count  Dtype  \n",
      "---  ------    --------------  -----  \n",
      " 0   date      369 non-null    object \n",
      " 1   product   369 non-null    object \n",
      " 2   category  369 non-null    object \n",
      " 3   price     367 non-null    float64\n",
      " 4   quantity  368 non-null    float64\n",
      " 5   revenue   368 non-null    float64\n",
      "dtypes: float64(3), object(3)\n",
      "memory usage: 17.4+ KB\n"
     ]
    }
   ],
   "source": [
    "DataFile.info()\n",
    "# As You See At INFO The Data Is Clean And Have No Null Values"
   ]
  },
  {
   "cell_type": "markdown",
   "id": "e6e8fcf0-30fd-4138-8221-50a0569cf5b4",
   "metadata": {
    "tags": []
   },
   "source": [
    "## Cleanin  Data"
   ]
  },
  {
   "cell_type": "code",
   "execution_count": 5,
   "id": "d4a146cf-a702-4781-bda1-d2f110941556",
   "metadata": {
    "tags": []
   },
   "outputs": [
    {
     "data": {
      "text/html": [
       "<div>\n",
       "<style scoped>\n",
       "    .dataframe tbody tr th:only-of-type {\n",
       "        vertical-align: middle;\n",
       "    }\n",
       "\n",
       "    .dataframe tbody tr th {\n",
       "        vertical-align: top;\n",
       "    }\n",
       "\n",
       "    .dataframe thead th {\n",
       "        text-align: right;\n",
       "    }\n",
       "</style>\n",
       "<table border=\"1\" class=\"dataframe\">\n",
       "  <thead>\n",
       "    <tr style=\"text-align: right;\">\n",
       "      <th></th>\n",
       "      <th>date</th>\n",
       "      <th>product</th>\n",
       "      <th>category</th>\n",
       "      <th>price</th>\n",
       "      <th>quantity</th>\n",
       "      <th>revenue</th>\n",
       "    </tr>\n",
       "  </thead>\n",
       "  <tbody>\n",
       "    <tr>\n",
       "      <th>0</th>\n",
       "      <td>2022-01-01</td>\n",
       "      <td>Smartphone</td>\n",
       "      <td>Electronics</td>\n",
       "      <td>600.0</td>\n",
       "      <td>10.0</td>\n",
       "      <td>6000.0</td>\n",
       "    </tr>\n",
       "    <tr>\n",
       "      <th>1</th>\n",
       "      <td>2022-01-01</td>\n",
       "      <td>Laptop</td>\n",
       "      <td>Electronics</td>\n",
       "      <td>1200.0</td>\n",
       "      <td>5.0</td>\n",
       "      <td>6000.0</td>\n",
       "    </tr>\n",
       "    <tr>\n",
       "      <th>2</th>\n",
       "      <td>2022-01-02</td>\n",
       "      <td>T-Shirt</td>\n",
       "      <td>Clothing</td>\n",
       "      <td>20.0</td>\n",
       "      <td>50.0</td>\n",
       "      <td>1000.0</td>\n",
       "    </tr>\n",
       "    <tr>\n",
       "      <th>3</th>\n",
       "      <td>2022-01-03</td>\n",
       "      <td>Headphones</td>\n",
       "      <td>Electronics</td>\n",
       "      <td>100.0</td>\n",
       "      <td>20.0</td>\n",
       "      <td>2000.0</td>\n",
       "    </tr>\n",
       "    <tr>\n",
       "      <th>4</th>\n",
       "      <td>2022-01-04</td>\n",
       "      <td>T-Shirt</td>\n",
       "      <td>Clothing</td>\n",
       "      <td>20.0</td>\n",
       "      <td>25.0</td>\n",
       "      <td>500.0</td>\n",
       "    </tr>\n",
       "    <tr>\n",
       "      <th>...</th>\n",
       "      <td>...</td>\n",
       "      <td>...</td>\n",
       "      <td>...</td>\n",
       "      <td>...</td>\n",
       "      <td>...</td>\n",
       "      <td>...</td>\n",
       "    </tr>\n",
       "    <tr>\n",
       "      <th>364</th>\n",
       "      <td>2022-12-27</td>\n",
       "      <td>Watch</td>\n",
       "      <td>Accessories</td>\n",
       "      <td>150.0</td>\n",
       "      <td>5.0</td>\n",
       "      <td>750.0</td>\n",
       "    </tr>\n",
       "    <tr>\n",
       "      <th>365</th>\n",
       "      <td>2022-12-28</td>\n",
       "      <td>Coat</td>\n",
       "      <td>Clothing</td>\n",
       "      <td>100.0</td>\n",
       "      <td>5.0</td>\n",
       "      <td>500.0</td>\n",
       "    </tr>\n",
       "    <tr>\n",
       "      <th>366</th>\n",
       "      <td>2022-12-29</td>\n",
       "      <td>Headphones</td>\n",
       "      <td>Electronics</td>\n",
       "      <td>100.0</td>\n",
       "      <td>10.0</td>\n",
       "      <td>1000.0</td>\n",
       "    </tr>\n",
       "    <tr>\n",
       "      <th>367</th>\n",
       "      <td>2022-12-30</td>\n",
       "      <td>Smartphone</td>\n",
       "      <td>Electronics</td>\n",
       "      <td>600.0</td>\n",
       "      <td>11.0</td>\n",
       "      <td>6600.0</td>\n",
       "    </tr>\n",
       "    <tr>\n",
       "      <th>368</th>\n",
       "      <td>2022-12-31</td>\n",
       "      <td>Hoodie</td>\n",
       "      <td>Clothing</td>\n",
       "      <td>40.0</td>\n",
       "      <td>30.0</td>\n",
       "      <td>1200.0</td>\n",
       "    </tr>\n",
       "  </tbody>\n",
       "</table>\n",
       "<p>365 rows × 6 columns</p>\n",
       "</div>"
      ],
      "text/plain": [
       "           date     product     category   price  quantity  revenue\n",
       "0    2022-01-01  Smartphone  Electronics   600.0      10.0   6000.0\n",
       "1    2022-01-01      Laptop  Electronics  1200.0       5.0   6000.0\n",
       "2    2022-01-02     T-Shirt     Clothing    20.0      50.0   1000.0\n",
       "3    2022-01-03  Headphones  Electronics   100.0      20.0   2000.0\n",
       "4    2022-01-04     T-Shirt     Clothing    20.0      25.0    500.0\n",
       "..          ...         ...          ...     ...       ...      ...\n",
       "364  2022-12-27       Watch  Accessories   150.0       5.0    750.0\n",
       "365  2022-12-28        Coat     Clothing   100.0       5.0    500.0\n",
       "366  2022-12-29  Headphones  Electronics   100.0      10.0   1000.0\n",
       "367  2022-12-30  Smartphone  Electronics   600.0      11.0   6600.0\n",
       "368  2022-12-31      Hoodie     Clothing    40.0      30.0   1200.0\n",
       "\n",
       "[365 rows x 6 columns]"
      ]
     },
     "execution_count": 5,
     "metadata": {},
     "output_type": "execute_result"
    }
   ],
   "source": [
    "#The Data Is Clean But for Make Sure \n",
    "DataFile.dropna()"
   ]
  },
  {
   "cell_type": "markdown",
   "id": "74d728d0-5de6-40a1-b7b0-4788b5103061",
   "metadata": {},
   "source": []
  },
  {
   "cell_type": "markdown",
   "id": "53442613-a53b-43ad-a93c-7fd012344d15",
   "metadata": {},
   "source": [
    "## Make Calculations"
   ]
  },
  {
   "cell_type": "code",
   "execution_count": 6,
   "id": "7b7ea853-12be-45a6-b44e-e91faafe54a0",
   "metadata": {
    "tags": []
   },
   "outputs": [],
   "source": [
    "# Calculate total revenue\n",
    "TotalRevenue = round ( DataFile['revenue'].sum() )\n",
    "\n",
    "# Find product with the highest revenue and it's Value\n",
    "HighestRevenueProduct = DataFile['product'][DataFile['revenue'].idxmax()]\n",
    "HighestProductRevenue = round ( DataFile['revenue'].max() )\n",
    "\n",
    "# Calculate average price\n",
    "AveragePrice = round ( DataFile['price'].mean() ,2)\n",
    "\n",
    "# Calculate total quantity\n",
    "TotalQuantity = round ( DataFile['quantity'].sum() )\n",
    "\n",
    "# Find category with the highest revenue and it's Value\n",
    "category_revenue = DataFile.groupby('category')['revenue'].sum()\n",
    "HighestRevenueCategory = category_revenue.idxmax()\n",
    "HighestCategoryRevenue = round ( category_revenue.max() )\n",
    "\n",
    "# Calculate average revenue per sale\n",
    "AverageRevenuePerSale = round ( DataFile['revenue'].mean() ,2)\n",
    "\n",
    "# Calculate total revenue in each quarter\n",
    "DataFile['date'] = pd.to_datetime(DataFile['date'])  # Convert date column to datetime\n",
    "DataFile['quarter'] = DataFile['date'].dt.quarter    # Add a new column for quarter\n",
    "RevenuePerQuarter = DataFile.groupby('quarter')['revenue'].sum()"
   ]
  },
  {
   "cell_type": "markdown",
   "id": "464f7ed2-da41-452c-afbb-4f0ec3ca2092",
   "metadata": {},
   "source": [
    "## Answering The Questions "
   ]
  },
  {
   "cell_type": "code",
   "execution_count": 7,
   "id": "d4725a4f-615b-4267-8d02-9e7c84685f05",
   "metadata": {
    "tags": []
   },
   "outputs": [
    {
     "name": "stdout",
     "output_type": "stream",
     "text": [
      "The Total revenue generated by the company Is : 758330 $\n",
      "\n",
      "The Product with the highest revenue Is : Smartphone By 7200 $\n",
      "\n",
      "The Average price of a product sold Is : 211.23 $\n",
      "\n",
      "The Total quantity of products sold Is : 5360 Product\n",
      "\n",
      "THe Category with the highest revenue Is : Electronics By 516080 $\n",
      "\n",
      "The Average revenue per sale Is : 2060.68 $\n",
      "\n",
      "\n",
      "Total revenue generated in each Quarter\n",
      "\n",
      "quarter\n",
      "1    182100.0\n",
      "2    183970.0\n",
      "3    197680.0\n",
      "4    194580.0\n",
      "Name: revenue, dtype: float64\n"
     ]
    }
   ],
   "source": [
    "# Print the results\n",
    "print(f\"The Total revenue generated by the company Is : {TotalRevenue} $\\n\")\n",
    "\n",
    "print(f\"The Product with the highest revenue Is : {HighestRevenueProduct} By {HighestProductRevenue} $\\n\")\n",
    "\n",
    "print(f\"The Average price of a product sold Is : {AveragePrice} $\\n\")\n",
    "\n",
    "print(f\"The Total quantity of products sold Is : {TotalQuantity} Product\\n\")\n",
    "\n",
    "print(f\"THe Category with the highest revenue Is : {HighestRevenueCategory} By {HighestCategoryRevenue} $\\n\")\n",
    "\n",
    "print(f\"The Average revenue per sale Is : {AverageRevenuePerSale} $\\n\\n\")\n",
    "\n",
    "print(\"Total revenue generated in each Quarter\\n\")\n",
    "print(RevenuePerQuarter)"
   ]
  },
  {
   "cell_type": "markdown",
   "id": "61eaaa00-2f7e-48b2-8f97-82656d016a7e",
   "metadata": {},
   "source": [
    "## Graphs"
   ]
  },
  {
   "cell_type": "code",
   "execution_count": null,
   "id": "9304621c-4ea7-441a-b9fa-579e334464d8",
   "metadata": {},
   "outputs": [],
   "source": []
  },
  {
   "cell_type": "code",
   "execution_count": null,
   "id": "7b872410-f21d-4840-9040-18dc2a82614b",
   "metadata": {},
   "outputs": [],
   "source": []
  },
  {
   "cell_type": "code",
   "execution_count": null,
   "id": "2a777654-902a-4448-b474-fa915372e7db",
   "metadata": {},
   "outputs": [],
   "source": []
  },
  {
   "cell_type": "code",
   "execution_count": 8,
   "id": "cadf89b5-d588-46bd-8a8f-d6b898de48f1",
   "metadata": {
    "tags": []
   },
   "outputs": [
    {
     "data": {
      "image/png": "[encoded data removed]",
      "text/plain": [
       "<Figure size 640x480 with 1 Axes>"
      ]
     },
     "metadata": {},
     "output_type": "display_data"
    }
   ],
   "source": [
    "# Define the color for the bars (sky color)\n",
    "bar_color = '#87CEEB'  # Hex color code for sky blue\n",
    "\n",
    "# Plotting the revenue per quarter\n",
    "plt.bar(RevenuePerQuarter.index, RevenuePerQuarter.values, color=bar_color)\n",
    "plt.xlabel('Quarter')\n",
    "plt.ylabel('Revenue')\n",
    "plt.title('Total Revenue Generated in Each Quarter')\n",
    "plt.xticks(RevenuePerQuarter.index)\n",
    "plt.show()"
   ]
  }
 ],
 "metadata": {
  "kernelspec": {
   "display_name": "Python 3 (ipykernel)",
   "language": "python",
   "name": "python3"
  },
  "language_info": {
   "codemirror_mode": {
    "name": "ipython",
    "version": 3
   },
   "file_extension": ".py",
   "mimetype": "text/x-python",
   "name": "python",
   "nbconvert_exporter": "python",
   "pygments_lexer": "ipython3",
   "version": "3.11.0"
  },
  "widgets": {
   "application/vnd.jupyter.widget-state+json": {
    "state": {},
    "version_major": 2,
    "version_minor": 0
   }
  }
 },
 "nbformat": 4,
 "nbformat_minor": 5
}
